{
 "cells": [
  {
   "cell_type": "markdown",
   "id": "96534651",
   "metadata": {},
   "source": [
    "IMPORTING LIBRARIES"
   ]
  },
  {
   "cell_type": "code",
   "execution_count": 207,
   "id": "be74eaf2",
   "metadata": {},
   "outputs": [],
   "source": [
    "import pandas as pd \n",
    "import numpy as np\n",
    "\n",
    "import warnings\n",
    "warnings.filterwarnings('ignore')"
   ]
  },
  {
   "cell_type": "code",
   "execution_count": 208,
   "id": "b14aacd1",
   "metadata": {},
   "outputs": [
    {
     "data": {
      "text/html": [
       "<div>\n",
       "<style scoped>\n",
       "    .dataframe tbody tr th:only-of-type {\n",
       "        vertical-align: middle;\n",
       "    }\n",
       "\n",
       "    .dataframe tbody tr th {\n",
       "        vertical-align: top;\n",
       "    }\n",
       "\n",
       "    .dataframe thead th {\n",
       "        text-align: right;\n",
       "    }\n",
       "</style>\n",
       "<table border=\"1\" class=\"dataframe\">\n",
       "  <thead>\n",
       "    <tr style=\"text-align: right;\">\n",
       "      <th></th>\n",
       "      <th>input</th>\n",
       "      <th>output</th>\n",
       "    </tr>\n",
       "  </thead>\n",
       "  <tbody>\n",
       "    <tr>\n",
       "      <th>0</th>\n",
       "      <td>-122.740667</td>\n",
       "      <td>-130.572085</td>\n",
       "    </tr>\n",
       "    <tr>\n",
       "      <th>1</th>\n",
       "      <td>-121.531419</td>\n",
       "      <td>-129.938929</td>\n",
       "    </tr>\n",
       "    <tr>\n",
       "      <th>2</th>\n",
       "      <td>-134.917019</td>\n",
       "      <td>-130.141832</td>\n",
       "    </tr>\n",
       "    <tr>\n",
       "      <th>3</th>\n",
       "      <td>-120.605951</td>\n",
       "      <td>-125.760932</td>\n",
       "    </tr>\n",
       "    <tr>\n",
       "      <th>4</th>\n",
       "      <td>-129.894781</td>\n",
       "      <td>-112.785214</td>\n",
       "    </tr>\n",
       "  </tbody>\n",
       "</table>\n",
       "</div>"
      ],
      "text/plain": [
       "        input      output\n",
       "0 -122.740667 -130.572085\n",
       "1 -121.531419 -129.938929\n",
       "2 -134.917019 -130.141832\n",
       "3 -120.605951 -125.760932\n",
       "4 -129.894781 -112.785214"
      ]
     },
     "execution_count": 208,
     "metadata": {},
     "output_type": "execute_result"
    }
   ],
   "source": [
    "data=pd.read_csv(\"/Users/mac/Downloads/dataframe_.csv\")\n",
    "data.head()"
   ]
  },
  {
   "cell_type": "code",
   "execution_count": 209,
   "id": "56755896",
   "metadata": {},
   "outputs": [
    {
     "data": {
      "text/plain": [
       "(1697, 2)"
      ]
     },
     "execution_count": 209,
     "metadata": {},
     "output_type": "execute_result"
    }
   ],
   "source": [
    "data.shape"
   ]
  },
  {
   "cell_type": "code",
   "execution_count": 210,
   "id": "88ecd230",
   "metadata": {},
   "outputs": [
    {
     "name": "stdout",
     "output_type": "stream",
     "text": [
      "<class 'pandas.core.frame.DataFrame'>\n",
      "RangeIndex: 1697 entries, 0 to 1696\n",
      "Data columns (total 2 columns):\n",
      " #   Column  Non-Null Count  Dtype  \n",
      "---  ------  --------------  -----  \n",
      " 0   input   1696 non-null   float64\n",
      " 1   output  1696 non-null   float64\n",
      "dtypes: float64(2)\n",
      "memory usage: 26.6 KB\n"
     ]
    }
   ],
   "source": [
    "data.info()"
   ]
  },
  {
   "cell_type": "code",
   "execution_count": 211,
   "id": "cf9c2280",
   "metadata": {},
   "outputs": [
    {
     "data": {
      "text/plain": [
       "input     1\n",
       "output    1\n",
       "dtype: int64"
      ]
     },
     "execution_count": 211,
     "metadata": {},
     "output_type": "execute_result"
    }
   ],
   "source": [
    "data.isna().sum()"
   ]
  },
  {
   "cell_type": "code",
   "execution_count": 212,
   "id": "2df61b64",
   "metadata": {},
   "outputs": [
    {
     "data": {
      "text/html": [
       "<div>\n",
       "<style scoped>\n",
       "    .dataframe tbody tr th:only-of-type {\n",
       "        vertical-align: middle;\n",
       "    }\n",
       "\n",
       "    .dataframe tbody tr th {\n",
       "        vertical-align: top;\n",
       "    }\n",
       "\n",
       "    .dataframe thead th {\n",
       "        text-align: right;\n",
       "    }\n",
       "</style>\n",
       "<table border=\"1\" class=\"dataframe\">\n",
       "  <thead>\n",
       "    <tr style=\"text-align: right;\">\n",
       "      <th></th>\n",
       "      <th>input</th>\n",
       "      <th>output</th>\n",
       "    </tr>\n",
       "  </thead>\n",
       "  <tbody>\n",
       "    <tr>\n",
       "      <th>1439</th>\n",
       "      <td>NaN</td>\n",
       "      <td>NaN</td>\n",
       "    </tr>\n",
       "  </tbody>\n",
       "</table>\n",
       "</div>"
      ],
      "text/plain": [
       "      input  output\n",
       "1439    NaN     NaN"
      ]
     },
     "execution_count": 212,
     "metadata": {},
     "output_type": "execute_result"
    }
   ],
   "source": [
    "data[data[\"input\"].isnull()]"
   ]
  },
  {
   "cell_type": "markdown",
   "id": "1e229968",
   "metadata": {},
   "source": [
    "DROPPING NAN VALUES"
   ]
  },
  {
   "cell_type": "code",
   "execution_count": 213,
   "id": "91eaa0c8",
   "metadata": {},
   "outputs": [],
   "source": [
    "data.dropna(inplace=True)"
   ]
  },
  {
   "cell_type": "code",
   "execution_count": 214,
   "id": "026d263c",
   "metadata": {},
   "outputs": [
    {
     "data": {
      "text/html": [
       "<div>\n",
       "<style scoped>\n",
       "    .dataframe tbody tr th:only-of-type {\n",
       "        vertical-align: middle;\n",
       "    }\n",
       "\n",
       "    .dataframe tbody tr th {\n",
       "        vertical-align: top;\n",
       "    }\n",
       "\n",
       "    .dataframe thead th {\n",
       "        text-align: right;\n",
       "    }\n",
       "</style>\n",
       "<table border=\"1\" class=\"dataframe\">\n",
       "  <thead>\n",
       "    <tr style=\"text-align: right;\">\n",
       "      <th></th>\n",
       "      <th>input</th>\n",
       "      <th>output</th>\n",
       "    </tr>\n",
       "  </thead>\n",
       "  <tbody>\n",
       "    <tr>\n",
       "      <th>0</th>\n",
       "      <td>-122.740667</td>\n",
       "      <td>-130.572085</td>\n",
       "    </tr>\n",
       "    <tr>\n",
       "      <th>1</th>\n",
       "      <td>-121.531419</td>\n",
       "      <td>-129.938929</td>\n",
       "    </tr>\n",
       "    <tr>\n",
       "      <th>2</th>\n",
       "      <td>-134.917019</td>\n",
       "      <td>-130.141832</td>\n",
       "    </tr>\n",
       "    <tr>\n",
       "      <th>3</th>\n",
       "      <td>-120.605951</td>\n",
       "      <td>-125.760932</td>\n",
       "    </tr>\n",
       "    <tr>\n",
       "      <th>4</th>\n",
       "      <td>-129.894781</td>\n",
       "      <td>-112.785214</td>\n",
       "    </tr>\n",
       "    <tr>\n",
       "      <th>...</th>\n",
       "      <td>...</td>\n",
       "      <td>...</td>\n",
       "    </tr>\n",
       "    <tr>\n",
       "      <th>1692</th>\n",
       "      <td>25.410184</td>\n",
       "      <td>-76.380902</td>\n",
       "    </tr>\n",
       "    <tr>\n",
       "      <th>1693</th>\n",
       "      <td>29.537304</td>\n",
       "      <td>-82.796934</td>\n",
       "    </tr>\n",
       "    <tr>\n",
       "      <th>1694</th>\n",
       "      <td>31.633331</td>\n",
       "      <td>-87.000000</td>\n",
       "    </tr>\n",
       "    <tr>\n",
       "      <th>1695</th>\n",
       "      <td>29.091458</td>\n",
       "      <td>-104.943052</td>\n",
       "    </tr>\n",
       "    <tr>\n",
       "      <th>1696</th>\n",
       "      <td>17.145296</td>\n",
       "      <td>-101.726894</td>\n",
       "    </tr>\n",
       "  </tbody>\n",
       "</table>\n",
       "<p>1696 rows × 2 columns</p>\n",
       "</div>"
      ],
      "text/plain": [
       "           input      output\n",
       "0    -122.740667 -130.572085\n",
       "1    -121.531419 -129.938929\n",
       "2    -134.917019 -130.141832\n",
       "3    -120.605951 -125.760932\n",
       "4    -129.894781 -112.785214\n",
       "...          ...         ...\n",
       "1692   25.410184  -76.380902\n",
       "1693   29.537304  -82.796934\n",
       "1694   31.633331  -87.000000\n",
       "1695   29.091458 -104.943052\n",
       "1696   17.145296 -101.726894\n",
       "\n",
       "[1696 rows x 2 columns]"
      ]
     },
     "execution_count": 214,
     "metadata": {},
     "output_type": "execute_result"
    }
   ],
   "source": [
    "data"
   ]
  },
  {
   "cell_type": "code",
   "execution_count": 215,
   "id": "68f2fcdf",
   "metadata": {},
   "outputs": [
    {
     "data": {
      "text/plain": [
       "606"
      ]
     },
     "execution_count": 215,
     "metadata": {},
     "output_type": "execute_result"
    }
   ],
   "source": [
    "data.duplicated(subset=data.columns).sum()"
   ]
  },
  {
   "cell_type": "markdown",
   "id": "41de2fda",
   "metadata": {},
   "source": [
    "DROPPING DUPLICATE VALUES"
   ]
  },
  {
   "cell_type": "code",
   "execution_count": 216,
   "id": "ab99302d",
   "metadata": {},
   "outputs": [],
   "source": [
    "data.drop_duplicates(inplace=True)"
   ]
  },
  {
   "cell_type": "code",
   "execution_count": 217,
   "id": "c139b493",
   "metadata": {},
   "outputs": [],
   "source": [
    "import matplotlib.pyplot as plt\n",
    "import seaborn as sns"
   ]
  },
  {
   "cell_type": "code",
   "execution_count": 218,
   "id": "61801725",
   "metadata": {},
   "outputs": [
    {
     "data": {
      "text/plain": [
       "<AxesSubplot:xlabel='input', ylabel='Density'>"
      ]
     },
     "execution_count": 218,
     "metadata": {},
     "output_type": "execute_result"
    },
    {
     "data": {
      "image/png": "[encoded data removed]",
      "text/plain": [
       "<Figure size 432x288 with 1 Axes>"
      ]
     },
     "metadata": {
      "needs_background": "light"
     },
     "output_type": "display_data"
    }
   ],
   "source": [
    "sns.distplot(data[\"input\"])"
   ]
  },
  {
   "cell_type": "markdown",
   "id": "f23ca1b8",
   "metadata": {},
   "source": [
    "CHECKING THE OUTLIERS"
   ]
  },
  {
   "cell_type": "code",
   "execution_count": 219,
   "id": "d6098749",
   "metadata": {},
   "outputs": [
    {
     "data": {
      "text/plain": [
       "<AxesSubplot:xlabel='input'>"
      ]
     },
     "execution_count": 219,
     "metadata": {},
     "output_type": "execute_result"
    },
    {
     "data": {
      "image/png": "[encoded data removed]",
      "text/plain": [
       "<Figure size 432x288 with 1 Axes>"
      ]
     },
     "metadata": {
      "needs_background": "light"
     },
     "output_type": "display_data"
    }
   ],
   "source": [
    "sns.boxplot(data=data,x=\"input\")"
   ]
  },
  {
   "cell_type": "code",
   "execution_count": 220,
   "id": "674b6590",
   "metadata": {},
   "outputs": [
    {
     "data": {
      "text/plain": [
       "<AxesSubplot:xlabel='input', ylabel='output'>"
      ]
     },
     "execution_count": 220,
     "metadata": {},
     "output_type": "execute_result"
    },
    {
     "data": {
      "image/png": "[encoded data removed]",
      "text/plain": [
       "<Figure size 432x288 with 1 Axes>"
      ]
     },
     "metadata": {
      "needs_background": "light"
     },
     "output_type": "display_data"
    }
   ],
   "source": [
    "sns.scatterplot(data['input'],data['output'])"
   ]
  },
  {
   "cell_type": "code",
   "execution_count": 221,
   "id": "1d810bf4",
   "metadata": {},
   "outputs": [],
   "source": [
    "from sklearn.preprocessing import StandardScaler\n",
    "from sklearn.model_selection import train_test_split"
   ]
  },
  {
   "cell_type": "code",
   "execution_count": 222,
   "id": "47efcc1a",
   "metadata": {},
   "outputs": [],
   "source": [
    "scaler=StandardScaler()\n",
    "X_scaler = scaler.fit_transform(x)"
   ]
  },
  {
   "cell_type": "code",
   "execution_count": 223,
   "id": "b5b9ffe7",
   "metadata": {},
   "outputs": [],
   "source": [
    "x_train,x_test,y_train,y_test=train_test_split(X_scaler,y,test_size=0.25,random_state=4999000)\n"
   ]
  },
  {
   "cell_type": "code",
   "execution_count": 224,
   "id": "ebe23784",
   "metadata": {},
   "outputs": [],
   "source": [
    "from sklearn.linear_model import LinearRegression \n"
   ]
  },
  {
   "cell_type": "code",
   "execution_count": 225,
   "id": "2da189a7",
   "metadata": {},
   "outputs": [
    {
     "data": {
      "text/html": [
       "<style>#sk-container-id-15 {color: black;background-color: white;}#sk-container-id-15 pre{padding: 0;}#sk-container-id-15 div.sk-toggleable {background-color: white;}#sk-container-id-15 label.sk-toggleable__label {cursor: pointer;display: block;width: 100%;margin-bottom: 0;padding: 0.3em;box-sizing: border-box;text-align: center;}#sk-container-id-15 label.sk-toggleable__label-arrow:before {content: \"▸\";float: left;margin-right: 0.25em;color: #696969;}#sk-container-id-15 label.sk-toggleable__label-arrow:hover:before {color: black;}#sk-container-id-15 div.sk-estimator:hover label.sk-toggleable__label-arrow:before {color: black;}#sk-container-id-15 div.sk-toggleable__content {max-height: 0;max-width: 0;overflow: hidden;text-align: left;background-color: #f0f8ff;}#sk-container-id-15 div.sk-toggleable__content pre {margin: 0.2em;color: black;border-radius: 0.25em;background-color: #f0f8ff;}#sk-container-id-15 input.sk-toggleable__control:checked~div.sk-toggleable__content {max-height: 200px;max-width: 100%;overflow: auto;}#sk-container-id-15 input.sk-toggleable__control:checked~label.sk-toggleable__label-arrow:before {content: \"▾\";}#sk-container-id-15 div.sk-estimator input.sk-toggleable__control:checked~label.sk-toggleable__label {background-color: #d4ebff;}#sk-container-id-15 div.sk-label input.sk-toggleable__control:checked~label.sk-toggleable__label {background-color: #d4ebff;}#sk-container-id-15 input.sk-hidden--visually {border: 0;clip: rect(1px 1px 1px 1px);clip: rect(1px, 1px, 1px, 1px);height: 1px;margin: -1px;overflow: hidden;padding: 0;position: absolute;width: 1px;}#sk-container-id-15 div.sk-estimator {font-family: monospace;background-color: #f0f8ff;border: 1px dotted black;border-radius: 0.25em;box-sizing: border-box;margin-bottom: 0.5em;}#sk-container-id-15 div.sk-estimator:hover {background-color: #d4ebff;}#sk-container-id-15 div.sk-parallel-item::after {content: \"\";width: 100%;border-bottom: 1px solid gray;flex-grow: 1;}#sk-container-id-15 div.sk-label:hover label.sk-toggleable__label {background-color: #d4ebff;}#sk-container-id-15 div.sk-serial::before {content: \"\";position: absolute;border-left: 1px solid gray;box-sizing: border-box;top: 0;bottom: 0;left: 50%;z-index: 0;}#sk-container-id-15 div.sk-serial {display: flex;flex-direction: column;align-items: center;background-color: white;padding-right: 0.2em;padding-left: 0.2em;position: relative;}#sk-container-id-15 div.sk-item {position: relative;z-index: 1;}#sk-container-id-15 div.sk-parallel {display: flex;align-items: stretch;justify-content: center;background-color: white;position: relative;}#sk-container-id-15 div.sk-item::before, #sk-container-id-15 div.sk-parallel-item::before {content: \"\";position: absolute;border-left: 1px solid gray;box-sizing: border-box;top: 0;bottom: 0;left: 50%;z-index: -1;}#sk-container-id-15 div.sk-parallel-item {display: flex;flex-direction: column;z-index: 1;position: relative;background-color: white;}#sk-container-id-15 div.sk-parallel-item:first-child::after {align-self: flex-end;width: 50%;}#sk-container-id-15 div.sk-parallel-item:last-child::after {align-self: flex-start;width: 50%;}#sk-container-id-15 div.sk-parallel-item:only-child::after {width: 0;}#sk-container-id-15 div.sk-dashed-wrapped {border: 1px dashed gray;margin: 0 0.4em 0.5em 0.4em;box-sizing: border-box;padding-bottom: 0.4em;background-color: white;}#sk-container-id-15 div.sk-label label {font-family: monospace;font-weight: bold;display: inline-block;line-height: 1.2em;}#sk-container-id-15 div.sk-label-container {text-align: center;}#sk-container-id-15 div.sk-container {/* jupyter's `normalize.less` sets `[hidden] { display: none; }` but bootstrap.min.css set `[hidden] { display: none !important; }` so we also need the `!important` here to be able to override the default hidden behavior on the sphinx rendered scikit-learn.org. See: https://github.com/scikit-learn/scikit-learn/issues/21755 */display: inline-block !important;position: relative;}#sk-container-id-15 div.sk-text-repr-fallback {display: none;}</style><div id=\"sk-container-id-15\" class=\"sk-top-container\"><div class=\"sk-text-repr-fallback\"><pre>LinearRegression()</pre><b>In a Jupyter environment, please rerun this cell to show the HTML representation or trust the notebook. <br />On GitHub, the HTML representation is unable to render, please try loading this page with nbviewer.org.</b></div><div class=\"sk-container\" hidden><div class=\"sk-item\"><div class=\"sk-estimator sk-toggleable\"><input class=\"sk-toggleable__control sk-hidden--visually\" id=\"sk-estimator-id-15\" type=\"checkbox\" checked><label for=\"sk-estimator-id-15\" class=\"sk-toggleable__label sk-toggleable__label-arrow\">LinearRegression</label><div class=\"sk-toggleable__content\"><pre>LinearRegression()</pre></div></div></div></div></div>"
      ],
      "text/plain": [
       "LinearRegression()"
      ]
     },
     "execution_count": 225,
     "metadata": {},
     "output_type": "execute_result"
    }
   ],
   "source": [
    "regression =LinearRegression()\n",
    "regression.fit(x_train,y_train)"
   ]
  },
  {
   "cell_type": "code",
   "execution_count": 226,
   "id": "db313f59",
   "metadata": {},
   "outputs": [
    {
     "data": {
      "text/plain": [
       "0.24704281666292194"
      ]
     },
     "execution_count": 226,
     "metadata": {},
     "output_type": "execute_result"
    }
   ],
   "source": [
    "regression.score(x_train,y_train)"
   ]
  },
  {
   "cell_type": "code",
   "execution_count": 227,
   "id": "0018ba44",
   "metadata": {},
   "outputs": [
    {
     "data": {
      "text/plain": [
       "0.3055076451545812"
      ]
     },
     "execution_count": 227,
     "metadata": {},
     "output_type": "execute_result"
    }
   ],
   "source": [
    "regression.score(x_test,y_test)"
   ]
  },
  {
   "cell_type": "code",
   "execution_count": 228,
   "id": "37e40617",
   "metadata": {},
   "outputs": [
    {
     "data": {
      "text/html": [
       "<div>\n",
       "<style scoped>\n",
       "    .dataframe tbody tr th:only-of-type {\n",
       "        vertical-align: middle;\n",
       "    }\n",
       "\n",
       "    .dataframe tbody tr th {\n",
       "        vertical-align: top;\n",
       "    }\n",
       "\n",
       "    .dataframe thead th {\n",
       "        text-align: right;\n",
       "    }\n",
       "</style>\n",
       "<table border=\"1\" class=\"dataframe\">\n",
       "  <thead>\n",
       "    <tr style=\"text-align: right;\">\n",
       "      <th></th>\n",
       "      <th>input</th>\n",
       "      <th>output</th>\n",
       "    </tr>\n",
       "  </thead>\n",
       "  <tbody>\n",
       "    <tr>\n",
       "      <th>1109</th>\n",
       "      <td>-111.515368</td>\n",
       "      <td>128.170885</td>\n",
       "    </tr>\n",
       "    <tr>\n",
       "      <th>1110</th>\n",
       "      <td>-110.344221</td>\n",
       "      <td>123.087950</td>\n",
       "    </tr>\n",
       "  </tbody>\n",
       "</table>\n",
       "</div>"
      ],
      "text/plain": [
       "           input      output\n",
       "1109 -111.515368  128.170885\n",
       "1110 -110.344221  123.087950"
      ]
     },
     "execution_count": 228,
     "metadata": {},
     "output_type": "execute_result"
    }
   ],
   "source": [
    "data.tail(2)"
   ]
  },
  {
   "cell_type": "code",
   "execution_count": 229,
   "id": "82b85731",
   "metadata": {},
   "outputs": [
    {
     "name": "stdout",
     "output_type": "stream",
     "text": [
      "output : [-79.99010013]\n"
     ]
    }
   ],
   "source": [
    "print('output :',regression.predict(scaler.transform([[-111.515368  ]])))"
   ]
  },
  {
   "cell_type": "code",
   "execution_count": null,
   "id": "11aa7980",
   "metadata": {},
   "outputs": [],
   "source": []
  },
  {
   "cell_type": "code",
   "execution_count": null,
   "id": "fb1e9b73",
   "metadata": {},
   "outputs": [],
   "source": []
  },
  {
   "cell_type": "code",
   "execution_count": null,
   "id": "3e818ef7",
   "metadata": {},
   "outputs": [],
   "source": []
  },
  {
   "cell_type": "code",
   "execution_count": 230,
   "id": "012cc2c1",
   "metadata": {},
   "outputs": [],
   "source": [
    "y = data['output']\n",
    "x = data.drop(columns=['output'])"
   ]
  },
  {
   "cell_type": "code",
   "execution_count": 231,
   "id": "d3e3ace2",
   "metadata": {},
   "outputs": [
    {
     "data": {
      "text/plain": [
       "0      -130.572085\n",
       "1      -129.938929\n",
       "2      -130.141832\n",
       "3      -125.760932\n",
       "4      -112.785214\n",
       "           ...    \n",
       "1105    121.096397\n",
       "1107    123.609122\n",
       "1108    127.197394\n",
       "1109    128.170885\n",
       "1110    123.087950\n",
       "Name: output, Length: 1090, dtype: float64"
      ]
     },
     "execution_count": 231,
     "metadata": {},
     "output_type": "execute_result"
    }
   ],
   "source": [
    "y"
   ]
  },
  {
   "cell_type": "code",
   "execution_count": 232,
   "id": "f51c3aae",
   "metadata": {},
   "outputs": [
    {
     "data": {
      "text/html": [
       "<div>\n",
       "<style scoped>\n",
       "    .dataframe tbody tr th:only-of-type {\n",
       "        vertical-align: middle;\n",
       "    }\n",
       "\n",
       "    .dataframe tbody tr th {\n",
       "        vertical-align: top;\n",
       "    }\n",
       "\n",
       "    .dataframe thead th {\n",
       "        text-align: right;\n",
       "    }\n",
       "</style>\n",
       "<table border=\"1\" class=\"dataframe\">\n",
       "  <thead>\n",
       "    <tr style=\"text-align: right;\">\n",
       "      <th></th>\n",
       "      <th>input</th>\n",
       "    </tr>\n",
       "  </thead>\n",
       "  <tbody>\n",
       "    <tr>\n",
       "      <th>0</th>\n",
       "      <td>-122.740667</td>\n",
       "    </tr>\n",
       "    <tr>\n",
       "      <th>1</th>\n",
       "      <td>-121.531419</td>\n",
       "    </tr>\n",
       "    <tr>\n",
       "      <th>2</th>\n",
       "      <td>-134.917019</td>\n",
       "    </tr>\n",
       "    <tr>\n",
       "      <th>3</th>\n",
       "      <td>-120.605951</td>\n",
       "    </tr>\n",
       "    <tr>\n",
       "      <th>4</th>\n",
       "      <td>-129.894781</td>\n",
       "    </tr>\n",
       "    <tr>\n",
       "      <th>...</th>\n",
       "      <td>...</td>\n",
       "    </tr>\n",
       "    <tr>\n",
       "      <th>1105</th>\n",
       "      <td>-112.018496</td>\n",
       "    </tr>\n",
       "    <tr>\n",
       "      <th>1107</th>\n",
       "      <td>-119.954237</td>\n",
       "    </tr>\n",
       "    <tr>\n",
       "      <th>1108</th>\n",
       "      <td>-109.942155</td>\n",
       "    </tr>\n",
       "    <tr>\n",
       "      <th>1109</th>\n",
       "      <td>-111.515368</td>\n",
       "    </tr>\n",
       "    <tr>\n",
       "      <th>1110</th>\n",
       "      <td>-110.344221</td>\n",
       "    </tr>\n",
       "  </tbody>\n",
       "</table>\n",
       "<p>1090 rows × 1 columns</p>\n",
       "</div>"
      ],
      "text/plain": [
       "           input\n",
       "0    -122.740667\n",
       "1    -121.531419\n",
       "2    -134.917019\n",
       "3    -120.605951\n",
       "4    -129.894781\n",
       "...          ...\n",
       "1105 -112.018496\n",
       "1107 -119.954237\n",
       "1108 -109.942155\n",
       "1109 -111.515368\n",
       "1110 -110.344221\n",
       "\n",
       "[1090 rows x 1 columns]"
      ]
     },
     "execution_count": 232,
     "metadata": {},
     "output_type": "execute_result"
    }
   ],
   "source": [
    "x"
   ]
  },
  {
   "cell_type": "code",
   "execution_count": 233,
   "id": "f8d58e06",
   "metadata": {},
   "outputs": [],
   "source": [
    "from sklearn.preprocessing import StandardScaler"
   ]
  },
  {
   "cell_type": "code",
   "execution_count": 234,
   "id": "dc3509df",
   "metadata": {},
   "outputs": [],
   "source": [
    "scaler=StandardScaler()\n",
    "X_scaler = scaler.fit_transform(x)"
   ]
  },
  {
   "cell_type": "code",
   "execution_count": 235,
   "id": "ea164cc5",
   "metadata": {},
   "outputs": [],
   "source": [
    "from sklearn.model_selection import train_test_split"
   ]
  },
  {
   "cell_type": "code",
   "execution_count": 236,
   "id": "f7a13db8",
   "metadata": {},
   "outputs": [
    {
     "data": {
      "text/plain": [
       "435      60.118643\n",
       "21      -78.139275\n",
       "1069    118.564590\n",
       "112     -18.312518\n",
       "941    -110.907090\n",
       "Name: output, dtype: float64"
      ]
     },
     "execution_count": 236,
     "metadata": {},
     "output_type": "execute_result"
    }
   ],
   "source": [
    "x_train,x_test,y_train,y_test=train_test_split=train_test_split(X_scaler,y,test_size=0.25,random_state=4999000)\n",
    "y_train.head()\n"
   ]
  },
  {
   "cell_type": "markdown",
   "id": "5e2d29ab",
   "metadata": {},
   "source": [
    "LINEAR REGRESSION "
   ]
  },
  {
   "cell_type": "code",
   "execution_count": 237,
   "id": "d1e5496e",
   "metadata": {},
   "outputs": [],
   "source": [
    "from sklearn.linear_model import LinearRegression "
   ]
  },
  {
   "cell_type": "code",
   "execution_count": 238,
   "id": "f3854772",
   "metadata": {},
   "outputs": [
    {
     "data": {
      "text/html": [
       "<style>#sk-container-id-16 {color: black;background-color: white;}#sk-container-id-16 pre{padding: 0;}#sk-container-id-16 div.sk-toggleable {background-color: white;}#sk-container-id-16 label.sk-toggleable__label {cursor: pointer;display: block;width: 100%;margin-bottom: 0;padding: 0.3em;box-sizing: border-box;text-align: center;}#sk-container-id-16 label.sk-toggleable__label-arrow:before {content: \"▸\";float: left;margin-right: 0.25em;color: #696969;}#sk-container-id-16 label.sk-toggleable__label-arrow:hover:before {color: black;}#sk-container-id-16 div.sk-estimator:hover label.sk-toggleable__label-arrow:before {color: black;}#sk-container-id-16 div.sk-toggleable__content {max-height: 0;max-width: 0;overflow: hidden;text-align: left;background-color: #f0f8ff;}#sk-container-id-16 div.sk-toggleable__content pre {margin: 0.2em;color: black;border-radius: 0.25em;background-color: #f0f8ff;}#sk-container-id-16 input.sk-toggleable__control:checked~div.sk-toggleable__content {max-height: 200px;max-width: 100%;overflow: auto;}#sk-container-id-16 input.sk-toggleable__control:checked~label.sk-toggleable__label-arrow:before {content: \"▾\";}#sk-container-id-16 div.sk-estimator input.sk-toggleable__control:checked~label.sk-toggleable__label {background-color: #d4ebff;}#sk-container-id-16 div.sk-label input.sk-toggleable__control:checked~label.sk-toggleable__label {background-color: #d4ebff;}#sk-container-id-16 input.sk-hidden--visually {border: 0;clip: rect(1px 1px 1px 1px);clip: rect(1px, 1px, 1px, 1px);height: 1px;margin: -1px;overflow: hidden;padding: 0;position: absolute;width: 1px;}#sk-container-id-16 div.sk-estimator {font-family: monospace;background-color: #f0f8ff;border: 1px dotted black;border-radius: 0.25em;box-sizing: border-box;margin-bottom: 0.5em;}#sk-container-id-16 div.sk-estimator:hover {background-color: #d4ebff;}#sk-container-id-16 div.sk-parallel-item::after {content: \"\";width: 100%;border-bottom: 1px solid gray;flex-grow: 1;}#sk-container-id-16 div.sk-label:hover label.sk-toggleable__label {background-color: #d4ebff;}#sk-container-id-16 div.sk-serial::before {content: \"\";position: absolute;border-left: 1px solid gray;box-sizing: border-box;top: 0;bottom: 0;left: 50%;z-index: 0;}#sk-container-id-16 div.sk-serial {display: flex;flex-direction: column;align-items: center;background-color: white;padding-right: 0.2em;padding-left: 0.2em;position: relative;}#sk-container-id-16 div.sk-item {position: relative;z-index: 1;}#sk-container-id-16 div.sk-parallel {display: flex;align-items: stretch;justify-content: center;background-color: white;position: relative;}#sk-container-id-16 div.sk-item::before, #sk-container-id-16 div.sk-parallel-item::before {content: \"\";position: absolute;border-left: 1px solid gray;box-sizing: border-box;top: 0;bottom: 0;left: 50%;z-index: -1;}#sk-container-id-16 div.sk-parallel-item {display: flex;flex-direction: column;z-index: 1;position: relative;background-color: white;}#sk-container-id-16 div.sk-parallel-item:first-child::after {align-self: flex-end;width: 50%;}#sk-container-id-16 div.sk-parallel-item:last-child::after {align-self: flex-start;width: 50%;}#sk-container-id-16 div.sk-parallel-item:only-child::after {width: 0;}#sk-container-id-16 div.sk-dashed-wrapped {border: 1px dashed gray;margin: 0 0.4em 0.5em 0.4em;box-sizing: border-box;padding-bottom: 0.4em;background-color: white;}#sk-container-id-16 div.sk-label label {font-family: monospace;font-weight: bold;display: inline-block;line-height: 1.2em;}#sk-container-id-16 div.sk-label-container {text-align: center;}#sk-container-id-16 div.sk-container {/* jupyter's `normalize.less` sets `[hidden] { display: none; }` but bootstrap.min.css set `[hidden] { display: none !important; }` so we also need the `!important` here to be able to override the default hidden behavior on the sphinx rendered scikit-learn.org. See: https://github.com/scikit-learn/scikit-learn/issues/21755 */display: inline-block !important;position: relative;}#sk-container-id-16 div.sk-text-repr-fallback {display: none;}</style><div id=\"sk-container-id-16\" class=\"sk-top-container\"><div class=\"sk-text-repr-fallback\"><pre>LinearRegression()</pre><b>In a Jupyter environment, please rerun this cell to show the HTML representation or trust the notebook. <br />On GitHub, the HTML representation is unable to render, please try loading this page with nbviewer.org.</b></div><div class=\"sk-container\" hidden><div class=\"sk-item\"><div class=\"sk-estimator sk-toggleable\"><input class=\"sk-toggleable__control sk-hidden--visually\" id=\"sk-estimator-id-16\" type=\"checkbox\" checked><label for=\"sk-estimator-id-16\" class=\"sk-toggleable__label sk-toggleable__label-arrow\">LinearRegression</label><div class=\"sk-toggleable__content\"><pre>LinearRegression()</pre></div></div></div></div></div>"
      ],
      "text/plain": [
       "LinearRegression()"
      ]
     },
     "execution_count": 238,
     "metadata": {},
     "output_type": "execute_result"
    }
   ],
   "source": [
    "regression =LinearRegression()\n",
    "regression.fit(x_train,y_train)"
   ]
  },
  {
   "cell_type": "code",
   "execution_count": 239,
   "id": "abf59ef3",
   "metadata": {},
   "outputs": [
    {
     "data": {
      "text/plain": [
       "array([[ 9.10553636e-01],\n",
       "       [-1.61600207e+00],\n",
       "       [ 1.36849904e+00],\n",
       "       [-9.71536105e-01],\n",
       "       [ 1.91872869e-02],\n",
       "       [-2.03674531e-01],\n",
       "       [ 1.43451672e+00],\n",
       "       [-1.46676446e+00],\n",
       "       [-1.36830297e+00],\n",
       "       [ 9.36829189e-01],\n",
       "       [ 9.21050778e-01],\n",
       "       [ 1.17296698e+00],\n",
       "       [-2.77679839e-01],\n",
       "       [ 1.24179629e+00],\n",
       "       [-1.51945770e+00],\n",
       "       [ 1.58982084e-01],\n",
       "       [-1.57455922e-01],\n",
       "       [-3.45236908e-01],\n",
       "       [-1.11729368e+00],\n",
       "       [-1.59782540e+00],\n",
       "       [-1.76426669e+00],\n",
       "       [-1.54229110e+00],\n",
       "       [ 9.61998072e-01],\n",
       "       [-1.43551787e+00],\n",
       "       [-1.57892653e+00],\n",
       "       [ 9.48115399e-01],\n",
       "       [ 7.97427019e-01],\n",
       "       [-4.63374017e-01],\n",
       "       [ 9.80204190e-02],\n",
       "       [ 8.00741164e-01],\n",
       "       [-1.99445067e-01],\n",
       "       [-1.57375328e+00],\n",
       "       [ 1.23950099e+00],\n",
       "       [ 1.14415114e+00],\n",
       "       [-1.41409683e+00],\n",
       "       [-6.26820843e-01],\n",
       "       [-1.35245416e+00],\n",
       "       [ 2.89706291e-01],\n",
       "       [ 9.59732062e-01],\n",
       "       [-5.82745692e-01],\n",
       "       [ 3.45400558e-01],\n",
       "       [-1.43266593e+00],\n",
       "       [-2.00592782e-01],\n",
       "       [ 1.55080572e+00],\n",
       "       [-1.78065412e+00],\n",
       "       [ 2.25471875e-01],\n",
       "       [ 5.55535949e-01],\n",
       "       [-1.14923584e+00],\n",
       "       [ 4.16849387e-01],\n",
       "       [-5.02590991e-01],\n",
       "       [ 1.31844971e+00],\n",
       "       [ 4.13004982e-01],\n",
       "       [-1.40529948e+00],\n",
       "       [ 1.26681852e+00],\n",
       "       [ 1.35212901e+00],\n",
       "       [-1.91932054e-01],\n",
       "       [ 4.83041287e-01],\n",
       "       [ 2.36556888e-01],\n",
       "       [ 1.80535168e-01],\n",
       "       [-1.12252946e+00],\n",
       "       [ 8.25522717e-02],\n",
       "       [ 6.15679846e-01],\n",
       "       [-9.33316378e-01],\n",
       "       [ 4.47992294e-01],\n",
       "       [ 8.27752141e-02],\n",
       "       [ 1.45449886e+00],\n",
       "       [-9.75090532e-01],\n",
       "       [ 3.24096967e-01],\n",
       "       [-1.71152786e+00],\n",
       "       [ 8.55241206e-01],\n",
       "       [-1.64667302e+00],\n",
       "       [ 2.27246757e-01],\n",
       "       [ 6.31202829e-01],\n",
       "       [ 1.29024965e-01],\n",
       "       [ 2.46900582e-01],\n",
       "       [-5.22275153e-01],\n",
       "       [ 6.03522155e-01],\n",
       "       [ 1.41888101e-01],\n",
       "       [-1.28894844e+00],\n",
       "       [ 1.37805772e+00],\n",
       "       [-1.55060390e+00],\n",
       "       [ 1.18316943e+00],\n",
       "       [-2.27955051e-01],\n",
       "       [ 2.73747968e-01],\n",
       "       [-6.00728861e-01],\n",
       "       [ 1.39050089e+00],\n",
       "       [-8.44527704e-01],\n",
       "       [ 4.28940997e-02],\n",
       "       [ 1.04806223e+00],\n",
       "       [ 6.16223300e-01],\n",
       "       [ 1.07346452e+00],\n",
       "       [ 9.21050778e-01],\n",
       "       [ 5.73729243e-02],\n",
       "       [ 1.46280939e-01],\n",
       "       [-6.58630457e-01],\n",
       "       [-2.98259133e-01],\n",
       "       [-1.61917820e+00],\n",
       "       [-1.42866103e+00],\n",
       "       [-6.59398352e-01],\n",
       "       [-1.45193614e+00],\n",
       "       [-1.69538507e+00],\n",
       "       [ 3.16353702e-02],\n",
       "       [ 1.26853763e+00],\n",
       "       [ 3.53943945e-01],\n",
       "       [-8.92692539e-02],\n",
       "       [ 1.46280939e-01],\n",
       "       [ 7.81338184e-01],\n",
       "       [-2.21347238e-01],\n",
       "       [-1.39856912e+00],\n",
       "       [ 8.06740474e-01],\n",
       "       [ 1.26967912e+00],\n",
       "       [ 4.30248864e-01],\n",
       "       [-1.52584800e+00],\n",
       "       [ 6.60812736e-01],\n",
       "       [-1.16751229e+00],\n",
       "       [-1.20539690e-01],\n",
       "       [ 9.91543423e-01],\n",
       "       [-1.74871661e+00],\n",
       "       [ 8.80608092e-01],\n",
       "       [-1.61917820e+00],\n",
       "       [ 9.77878322e-01],\n",
       "       [-1.22701037e+00],\n",
       "       [ 2.47509001e-01],\n",
       "       [ 8.65417673e-01],\n",
       "       [ 3.11395822e-01],\n",
       "       [ 1.97085518e-01],\n",
       "       [ 8.41195014e-01],\n",
       "       [ 9.79575860e-01],\n",
       "       [-3.28691329e-01],\n",
       "       [-1.47946561e+00],\n",
       "       [-6.41190046e-01],\n",
       "       [ 2.10836573e-01],\n",
       "       [ 6.91767016e-01],\n",
       "       [ 5.24595172e-01],\n",
       "       [ 2.13773142e-01],\n",
       "       [ 1.20275914e+00],\n",
       "       [ 3.62165635e-01],\n",
       "       [ 4.46665346e-02],\n",
       "       [-7.55500350e-01],\n",
       "       [ 1.11066552e-01],\n",
       "       [ 2.47890098e-01],\n",
       "       [ 2.98694678e-01],\n",
       "       [ 1.15428577e+00],\n",
       "       [-2.72856843e-01],\n",
       "       [ 4.42166920e-01],\n",
       "       [ 9.60895670e-01],\n",
       "       [-1.66998278e+00],\n",
       "       [ 1.49025334e+00],\n",
       "       [-1.57265343e+00],\n",
       "       [-2.92072458e-01],\n",
       "       [ 7.99159004e-01],\n",
       "       [ 1.58745678e+00],\n",
       "       [-3.32664083e-01],\n",
       "       [ 1.71683228e-01],\n",
       "       [-4.68998370e-01],\n",
       "       [-5.69831336e-02],\n",
       "       [-7.74032106e-01],\n",
       "       [-4.07854159e-01],\n",
       "       [-3.92026434e-01],\n",
       "       [ 1.35288970e+00],\n",
       "       [ 5.46452713e-01],\n",
       "       [-1.63011544e+00],\n",
       "       [-1.14597316e-01],\n",
       "       [-1.53419909e+00],\n",
       "       [-1.80900994e+00],\n",
       "       [-1.51931971e+00],\n",
       "       [ 6.01123745e-01],\n",
       "       [ 4.66091294e-01],\n",
       "       [-2.98259133e-01],\n",
       "       [ 1.84384373e-01],\n",
       "       [ 1.08177504e-01],\n",
       "       [ 9.75237405e-01],\n",
       "       [ 1.25128055e+00],\n",
       "       [-1.32061211e+00],\n",
       "       [ 6.99613194e-02],\n",
       "       [ 1.53322454e+00],\n",
       "       [-1.66536666e+00],\n",
       "       [ 8.91706755e-01],\n",
       "       [ 1.14428526e+00],\n",
       "       [ 4.19807973e-01],\n",
       "       [ 4.89211851e-01],\n",
       "       [-1.09696545e+00],\n",
       "       [ 1.15862266e+00],\n",
       "       [ 1.35018828e-01],\n",
       "       [ 1.58584868e+00],\n",
       "       [-1.09634124e+00],\n",
       "       [-1.46682232e+00],\n",
       "       [ 1.27668284e+00],\n",
       "       [-1.74618965e+00],\n",
       "       [-5.39580886e-01],\n",
       "       [-2.36512052e-01],\n",
       "       [ 1.22799349e-01],\n",
       "       [-5.12519881e-02],\n",
       "       [ 1.50452016e+00],\n",
       "       [-1.88339452e-02],\n",
       "       [ 1.00778985e+00],\n",
       "       [ 1.25128055e+00],\n",
       "       [ 1.34385169e+00],\n",
       "       [ 1.47999874e+00],\n",
       "       [ 7.08011678e-01],\n",
       "       [ 7.86369892e-01],\n",
       "       [ 1.39259901e+00],\n",
       "       [ 1.30208513e+00],\n",
       "       [-1.59377591e+00],\n",
       "       [ 3.85958659e-01],\n",
       "       [ 1.42909657e+00],\n",
       "       [ 1.35755376e+00],\n",
       "       [ 1.25813714e+00],\n",
       "       [ 6.75846794e-01],\n",
       "       [ 2.05126705e-01],\n",
       "       [-1.28894844e+00],\n",
       "       [ 1.55452918e+00],\n",
       "       [ 3.19712575e-01],\n",
       "       [-2.22052264e-01],\n",
       "       [ 9.65034026e-01],\n",
       "       [-1.15110739e-01],\n",
       "       [ 1.32748742e+00],\n",
       "       [-1.43620983e+00],\n",
       "       [ 4.26152179e-02],\n",
       "       [-1.15717643e+00],\n",
       "       [-3.57742615e-01],\n",
       "       [ 7.60967584e-01],\n",
       "       [ 4.84823772e-01],\n",
       "       [-1.51613392e+00],\n",
       "       [ 9.49100142e-01],\n",
       "       [ 8.79652391e-02],\n",
       "       [ 1.15206884e+00],\n",
       "       [-6.10514950e-02],\n",
       "       [-1.18733928e+00],\n",
       "       [ 7.27800121e-01],\n",
       "       [ 9.70142400e-01],\n",
       "       [-4.54807347e-01],\n",
       "       [ 1.33579794e-01],\n",
       "       [ 9.92693842e-01],\n",
       "       [-6.94001442e-02],\n",
       "       [-1.22544271e+00],\n",
       "       [-1.69538507e+00],\n",
       "       [ 9.68030005e-02],\n",
       "       [-4.83600515e-01],\n",
       "       [-9.02805653e-01],\n",
       "       [ 8.66213672e-01],\n",
       "       [-7.80902640e-01],\n",
       "       [ 3.49499257e-01],\n",
       "       [ 1.81545681e-01],\n",
       "       [ 1.10129842e+00],\n",
       "       [ 8.52666543e-01],\n",
       "       [-1.54914941e+00],\n",
       "       [ 1.12997027e+00],\n",
       "       [-7.55500350e-01],\n",
       "       [ 1.97085518e-01],\n",
       "       [-3.61764858e-01],\n",
       "       [-4.08644134e-01],\n",
       "       [-3.99868292e-01],\n",
       "       [ 1.11728324e+00],\n",
       "       [ 5.73729243e-02],\n",
       "       [-8.67073363e-01],\n",
       "       [-7.13724205e-01],\n",
       "       [-1.22073227e-01],\n",
       "       [ 1.58982084e-01],\n",
       "       [ 1.05046200e+00],\n",
       "       [ 1.42236091e+00],\n",
       "       [ 9.96983247e-01],\n",
       "       [-2.55399125e-02],\n",
       "       [-3.11818375e-01],\n",
       "       [ 1.30973347e+00],\n",
       "       [-1.51347139e+00],\n",
       "       [-8.06132596e-02],\n",
       "       [-1.12414849e-01],\n",
       "       [ 1.28242347e+00],\n",
       "       [-6.03086611e-01],\n",
       "       [-1.63071623e+00],\n",
       "       [ 7.89349779e-01],\n",
       "       [-1.44804948e+00],\n",
       "       [-1.59367791e+00],\n",
       "       [-2.22373577e-01],\n",
       "       [-1.77843394e+00],\n",
       "       [ 7.91935195e-01],\n",
       "       [-2.91355126e-01],\n",
       "       [-1.77159194e+00],\n",
       "       [-1.14629092e+00],\n",
       "       [-1.59010555e+00],\n",
       "       [ 1.32748742e+00],\n",
       "       [-1.03134240e+00],\n",
       "       [ 1.20047597e+00],\n",
       "       [ 6.56834466e-03],\n",
       "       [-6.54579760e-01],\n",
       "       [-5.06839096e-01],\n",
       "       [-3.17636425e-01],\n",
       "       [ 1.07346452e+00],\n",
       "       [-3.55802004e-02],\n",
       "       [-3.49063713e-01],\n",
       "       [ 1.23753022e+00],\n",
       "       [-1.21150074e+00],\n",
       "       [ 1.32186320e+00],\n",
       "       [-4.60609543e-01],\n",
       "       [ 4.81908470e-01],\n",
       "       [ 7.47726178e-01],\n",
       "       [ 5.52579690e-01],\n",
       "       [ 4.63809561e-01],\n",
       "       [ 4.38407272e-01],\n",
       "       [-1.50486790e+00],\n",
       "       [ 5.92921093e-01],\n",
       "       [-1.38028716e+00],\n",
       "       [-1.13578170e-01],\n",
       "       [ 1.57704151e+00],\n",
       "       [ 1.27389283e+00],\n",
       "       [ 2.76420884e-01],\n",
       "       [-8.75297933e-01],\n",
       "       [-4.42362350e-02],\n",
       "       [-1.68442416e+00],\n",
       "       [-8.85622778e-01],\n",
       "       [-1.71419172e-01],\n",
       "       [ 1.06350394e+00],\n",
       "       [ 5.48785433e-01],\n",
       "       [ 2.09375291e-01],\n",
       "       [-7.36267315e-01],\n",
       "       [-4.37971727e-01],\n",
       "       [ 9.53088000e-01],\n",
       "       [-1.62645955e+00],\n",
       "       [ 1.27035182e+00],\n",
       "       [-5.19584453e-01],\n",
       "       [ 5.01912996e-01],\n",
       "       [-2.52806325e-01],\n",
       "       [-1.27434735e+00],\n",
       "       [-4.87087956e-02],\n",
       "       [-1.03763649e-01],\n",
       "       [ 1.03297223e+00],\n",
       "       [-1.02532142e+00],\n",
       "       [-2.71597786e-01],\n",
       "       [ 1.39099314e+00],\n",
       "       [ 1.15012241e+00],\n",
       "       [-1.64818425e+00],\n",
       "       [ 9.21050778e-01],\n",
       "       [ 9.99652615e-01],\n",
       "       [ 3.18726709e-01],\n",
       "       [-5.01477452e-01],\n",
       "       [ 3.28080595e-02],\n",
       "       [-1.75889080e+00],\n",
       "       [ 9.66833281e-01],\n",
       "       [ 1.39052737e+00],\n",
       "       [-1.66295352e+00],\n",
       "       [-1.63047823e+00],\n",
       "       [ 1.04734323e+00],\n",
       "       [ 1.06944178e+00],\n",
       "       [ 7.42424436e-01],\n",
       "       [ 1.07659275e+00],\n",
       "       [-1.75747652e+00],\n",
       "       [ 6.41625590e-01],\n",
       "       [ 1.03536108e+00],\n",
       "       [-3.26275563e-01],\n",
       "       [ 8.82947343e-01],\n",
       "       [ 4.00303837e-01],\n",
       "       [-7.02435860e-01],\n",
       "       [-2.98259133e-01],\n",
       "       [-1.25942268e+00],\n",
       "       [-2.98259133e-01],\n",
       "       [ 9.21050778e-01],\n",
       "       [ 8.30009491e-01],\n",
       "       [ 7.98936281e-01],\n",
       "       [-1.50358520e+00],\n",
       "       [ 1.23489250e+00],\n",
       "       [-1.48820291e+00],\n",
       "       [-1.63491851e+00],\n",
       "       [ 8.70246198e-01],\n",
       "       [ 1.32154895e+00],\n",
       "       [ 3.39472563e-01],\n",
       "       [ 7.81338184e-01],\n",
       "       [ 1.23666662e+00],\n",
       "       [-1.18794751e+00],\n",
       "       [ 3.02005782e-01],\n",
       "       [ 3.89223832e-01],\n",
       "       [-5.26879741e-01],\n",
       "       [ 1.38760026e+00],\n",
       "       [-4.79625198e-01],\n",
       "       [ 5.90821010e-01],\n",
       "       [ 3.62945826e-01],\n",
       "       [ 1.49620064e+00],\n",
       "       [ 8.51860049e-01],\n",
       "       [-1.49104524e+00],\n",
       "       [ 4.79896083e-01],\n",
       "       [ 3.64123888e-01],\n",
       "       [ 1.26921246e+00],\n",
       "       [ 6.48396524e-01],\n",
       "       [-1.56261594e+00],\n",
       "       [-1.66379890e+00],\n",
       "       [-5.34982233e-01],\n",
       "       [ 8.62407001e-01],\n",
       "       [-1.68268393e+00],\n",
       "       [ 1.09931033e+00],\n",
       "       [-1.64068825e+00],\n",
       "       [ 7.39081002e-01],\n",
       "       [ 1.48110221e+00],\n",
       "       [ 8.30219565e-01],\n",
       "       [-1.34917915e+00],\n",
       "       [-1.35983415e+00],\n",
       "       [ 3.32244580e-01],\n",
       "       [ 8.67796855e-01],\n",
       "       [-4.58361650e-01],\n",
       "       [ 7.88740427e-02],\n",
       "       [ 9.22551991e-01],\n",
       "       [ 1.31838890e+00],\n",
       "       [-1.64252287e+00],\n",
       "       [-7.49493077e-01],\n",
       "       [-1.79399202e+00],\n",
       "       [-1.57153722e+00],\n",
       "       [-7.22477863e-01],\n",
       "       [-4.40541179e-01],\n",
       "       [ 1.23396857e+00],\n",
       "       [ 8.19441619e-01],\n",
       "       [ 8.32142764e-01],\n",
       "       [ 1.32119826e+00],\n",
       "       [-1.69558182e+00],\n",
       "       [ 1.23149558e+00],\n",
       "       [ 1.36305015e+00],\n",
       "       [ 8.54712325e-01],\n",
       "       [-1.41502544e+00],\n",
       "       [ 1.15959871e+00],\n",
       "       [ 8.10178789e-01],\n",
       "       [ 4.03038686e-01],\n",
       "       [ 6.01514744e-01],\n",
       "       [-1.56837362e+00],\n",
       "       [ 1.35217546e+00],\n",
       "       [-2.39190974e-02],\n",
       "       [-5.68185311e-01],\n",
       "       [ 1.38380647e+00],\n",
       "       [-8.83191039e-01],\n",
       "       [-1.09843126e+00],\n",
       "       [ 5.60515708e-01],\n",
       "       [ 1.50053364e+00],\n",
       "       [-3.89863932e-01],\n",
       "       [-9.50408146e-02],\n",
       "       [-1.68268393e+00],\n",
       "       [ 1.37829199e+00],\n",
       "       [ 1.94669826e-01],\n",
       "       [-3.49063713e-01],\n",
       "       [ 1.04601749e+00],\n",
       "       [-6.33399507e-01],\n",
       "       [-7.19556299e-01],\n",
       "       [-1.61917820e+00],\n",
       "       [-1.96362182e-01],\n",
       "       [-9.84120958e-01],\n",
       "       [ 2.97383428e-01],\n",
       "       [ 4.55072779e-01],\n",
       "       [ 1.09886681e+00],\n",
       "       [-4.50194334e-02],\n",
       "       [ 1.20613554e+00],\n",
       "       [ 8.59691251e-01],\n",
       "       [ 3.24782507e-01],\n",
       "       [ 6.45213145e-01],\n",
       "       [ 1.33747533e+00],\n",
       "       [-3.02512225e-01],\n",
       "       [-1.79699423e+00],\n",
       "       [ 1.32056197e+00],\n",
       "       [-6.96385248e-02],\n",
       "       [-1.15441304e+00],\n",
       "       [-1.48424629e+00],\n",
       "       [ 1.42909657e+00],\n",
       "       [ 4.03930546e-01],\n",
       "       [ 4.19151007e-01],\n",
       "       [-7.35116584e-01],\n",
       "       [ 1.18905092e+00],\n",
       "       [-1.12969938e+00],\n",
       "       [ 5.87583423e-01],\n",
       "       [-1.86058438e-01],\n",
       "       [-7.31759577e-01],\n",
       "       [ 1.35008048e-01],\n",
       "       [-5.64983176e-01],\n",
       "       [ 1.21249877e+00],\n",
       "       [ 3.83801751e-01],\n",
       "       [-4.59892396e-02],\n",
       "       [ 5.23716256e-01],\n",
       "       [-7.49571467e-01],\n",
       "       [-8.61223905e-01],\n",
       "       [-4.42362350e-02],\n",
       "       [-7.74300986e-01],\n",
       "       [ 1.09017075e+00],\n",
       "       [-1.75772907e+00],\n",
       "       [ 9.37911316e-01],\n",
       "       [-1.70808622e+00],\n",
       "       [ 1.48751681e+00],\n",
       "       [-1.65890689e-01],\n",
       "       [-5.20040153e-01],\n",
       "       [-7.17396915e-01],\n",
       "       [-6.41450532e-01],\n",
       "       [ 1.28122350e+00],\n",
       "       [ 1.10466517e+00],\n",
       "       [ 1.25128055e+00],\n",
       "       [ 4.10635080e-02],\n",
       "       [ 7.80139365e-01],\n",
       "       [-1.48115449e+00],\n",
       "       [ 5.62966824e-01],\n",
       "       [-7.26830908e-01],\n",
       "       [-3.61764858e-01],\n",
       "       [-3.85435609e-01],\n",
       "       [ 3.12495558e-01],\n",
       "       [ 1.34778038e+00],\n",
       "       [ 1.08909960e+00],\n",
       "       [-1.23859648e+00],\n",
       "       [ 1.26003872e+00],\n",
       "       [ 8.68484250e-01],\n",
       "       [-3.73481632e-01],\n",
       "       [-1.54158452e+00],\n",
       "       [ 1.08616566e+00],\n",
       "       [ 1.34018856e+00],\n",
       "       [-4.25270582e-01],\n",
       "       [-8.06304929e-01],\n",
       "       [-2.13136247e-02],\n",
       "       [ 1.23468890e+00],\n",
       "       [ 1.02265994e+00],\n",
       "       [ 9.02633021e-01],\n",
       "       [ 2.85017099e-01],\n",
       "       [ 8.34428463e-01],\n",
       "       [-7.58577502e-01],\n",
       "       [-1.60112777e+00],\n",
       "       [ 1.16999321e+00],\n",
       "       [-8.95212944e-01],\n",
       "       [-6.96385248e-02],\n",
       "       [-3.02798784e-01],\n",
       "       [ 1.32748742e+00],\n",
       "       [ 1.47990115e+00],\n",
       "       [-8.57312036e-01],\n",
       "       [ 1.39256136e+00],\n",
       "       [ 6.05009093e-01],\n",
       "       [ 1.20878649e-01],\n",
       "       [-1.35679951e-01],\n",
       "       [-4.25375457e-01],\n",
       "       [ 1.21296736e+00],\n",
       "       [ 2.76441453e-01],\n",
       "       [ 1.12426910e+00],\n",
       "       [ 9.83622104e-01],\n",
       "       [ 1.45701999e+00],\n",
       "       [-4.78423644e-01],\n",
       "       [-1.33126462e+00],\n",
       "       [-1.61499716e-01],\n",
       "       [-3.91576747e-01],\n",
       "       [-6.18143896e-01],\n",
       "       [ 1.12767819e+00],\n",
       "       [ 3.99391159e-01],\n",
       "       [-3.79211703e-01],\n",
       "       [ 9.73657816e-01],\n",
       "       [ 1.16107086e+00],\n",
       "       [ 8.42045201e-01],\n",
       "       [ 8.76269043e-01],\n",
       "       [ 3.62200402e-01],\n",
       "       [-1.15059026e+00],\n",
       "       [ 6.79729025e-01],\n",
       "       [-7.04775334e-01],\n",
       "       [-3.19308282e-01],\n",
       "       [ 7.30533604e-01],\n",
       "       [-1.55229685e+00],\n",
       "       [ 6.23506343e-01],\n",
       "       [-1.18229682e+00],\n",
       "       [-5.17139032e-01],\n",
       "       [ 3.55823341e-01],\n",
       "       [ 4.18884702e-01],\n",
       "       [ 5.22545060e-01],\n",
       "       [-1.56837362e+00],\n",
       "       [-1.81022018e+00],\n",
       "       [-4.14311891e-01],\n",
       "       [-1.66203185e+00],\n",
       "       [-9.08166046e-01],\n",
       "       [ 2.85993533e-01],\n",
       "       [ 1.34018856e+00],\n",
       "       [ 1.06696048e+00],\n",
       "       [-1.59314404e+00],\n",
       "       [-4.68699319e-01],\n",
       "       [ 4.17037577e-01],\n",
       "       [ 9.21050778e-01],\n",
       "       [-1.02655932e+00],\n",
       "       [ 3.28987789e-01],\n",
       "       [-4.79630492e-01],\n",
       "       [ 8.69748535e-01],\n",
       "       [-1.69439764e-01],\n",
       "       [ 8.56304774e-01],\n",
       "       [-1.27983645e+00],\n",
       "       [-1.13052227e+00],\n",
       "       [-1.63319708e+00],\n",
       "       [-5.57950041e-01],\n",
       "       [ 8.70246198e-01],\n",
       "       [ 6.61984303e-01],\n",
       "       [ 1.12206828e+00],\n",
       "       [ 1.22764274e+00],\n",
       "       [-7.84848090e-01],\n",
       "       [-1.65728164e+00],\n",
       "       [ 1.32803491e+00],\n",
       "       [ 5.35988664e-01],\n",
       "       [ 3.63290274e-01],\n",
       "       [ 2.66409973e-01],\n",
       "       [-8.31707219e-01],\n",
       "       [ 1.17507368e+00],\n",
       "       [-1.16439297e-01],\n",
       "       [ 4.48449523e-01],\n",
       "       [-4.34975457e-01],\n",
       "       [ 8.31646795e-01],\n",
       "       [ 8.70566135e-01],\n",
       "       [ 3.18671141e-01],\n",
       "       [-1.63017403e-01],\n",
       "       [ 8.03839855e-01],\n",
       "       [ 7.04994305e-01],\n",
       "       [ 2.48203392e-01],\n",
       "       [-7.04950921e-02],\n",
       "       [-1.75756459e+00],\n",
       "       [-6.78146941e-01],\n",
       "       [ 8.44843909e-01],\n",
       "       [-5.82433261e-01],\n",
       "       [ 1.59769208e+00],\n",
       "       [-6.68902360e-01],\n",
       "       [-9.49410047e-02],\n",
       "       [-4.02321026e-01],\n",
       "       [ 2.39607258e-02],\n",
       "       [-1.39055760e+00],\n",
       "       [ 1.28821290e-01],\n",
       "       [-1.63753785e+00],\n",
       "       [-5.79376582e-01],\n",
       "       [-1.44079075e+00],\n",
       "       [ 8.95648488e-01],\n",
       "       [ 1.42853611e+00],\n",
       "       [ 5.97661113e-01],\n",
       "       [ 7.93821995e-01],\n",
       "       [ 2.25545061e-02],\n",
       "       [-1.60985116e+00],\n",
       "       [ 6.45216915e-01],\n",
       "       [-4.51994653e-01],\n",
       "       [-6.80932367e-01],\n",
       "       [ 7.68637039e-01],\n",
       "       [ 5.36217748e-01],\n",
       "       [-1.80272888e+00],\n",
       "       [ 6.38495741e-01],\n",
       "       [ 3.62103607e-01],\n",
       "       [ 5.88300215e-01],\n",
       "       [ 1.07469426e+00],\n",
       "       [-2.22052264e-01],\n",
       "       [-9.41473279e-01],\n",
       "       [ 6.41625590e-01],\n",
       "       [ 1.14341055e+00],\n",
       "       [-1.55054712e+00],\n",
       "       [-3.34046110e-01],\n",
       "       [ 1.20878649e-01],\n",
       "       [ 4.85183763e-01],\n",
       "       [-1.61917820e+00],\n",
       "       [ 6.00449912e-01],\n",
       "       [-5.01477452e-01],\n",
       "       [-1.68104632e+00],\n",
       "       [ 1.34431981e+00],\n",
       "       [-4.34209297e-01],\n",
       "       [ 1.18777482e+00],\n",
       "       [ 5.18330904e-01],\n",
       "       [ 6.92430170e-01],\n",
       "       [ 1.32664462e+00],\n",
       "       [-5.60909729e-01],\n",
       "       [-1.18733928e+00],\n",
       "       [-1.50244951e+00],\n",
       "       [ 1.35387181e+00],\n",
       "       [ 5.52717576e-01],\n",
       "       [ 1.32738045e+00],\n",
       "       [-1.60445945e+00],\n",
       "       [-1.29310328e+00],\n",
       "       [-1.79699423e+00],\n",
       "       [-1.34508932e+00],\n",
       "       [ 1.16300517e+00],\n",
       "       [ 8.77407830e-01],\n",
       "       [ 3.75654030e-01],\n",
       "       [-8.65326676e-01],\n",
       "       [-7.42686130e-01],\n",
       "       [-1.53027019e+00],\n",
       "       [ 1.08505265e+00],\n",
       "       [ 7.17607414e-01],\n",
       "       [ 1.13697024e+00],\n",
       "       [ 8.12636190e-01],\n",
       "       [ 1.06941539e+00],\n",
       "       [-1.52888879e+00],\n",
       "       [ 1.08063750e+00],\n",
       "       [ 1.54224270e+00],\n",
       "       [ 2.15174264e-01],\n",
       "       [-2.60689046e-01],\n",
       "       [ 3.83811136e-01],\n",
       "       [-4.92781813e-01],\n",
       "       [ 8.80749945e-01],\n",
       "       [ 1.32748742e+00],\n",
       "       [-2.52485428e-01],\n",
       "       [ 1.16304456e+00],\n",
       "       [ 1.20898263e+00],\n",
       "       [-7.11790382e-01],\n",
       "       [-1.08093223e+00],\n",
       "       [-1.28241726e+00],\n",
       "       [ 9.76150521e-01],\n",
       "       [ 9.91165247e-01],\n",
       "       [ 1.57231784e+00],\n",
       "       [ 9.59154213e-01],\n",
       "       [-1.64865985e+00],\n",
       "       [-1.56712044e+00],\n",
       "       [-1.53662382e+00],\n",
       "       [-1.80904074e-02],\n",
       "       [-1.80969538e+00],\n",
       "       [ 2.09786663e-01],\n",
       "       [-1.30091887e+00],\n",
       "       [-1.50880403e+00],\n",
       "       [ 1.37829199e+00],\n",
       "       [ 9.83729419e-01],\n",
       "       [ 2.72072731e-01],\n",
       "       [ 9.71855358e-01],\n",
       "       [-1.50079913e+00],\n",
       "       [-4.76392935e-01],\n",
       "       [ 3.58482622e-01],\n",
       "       [-1.00952325e+00],\n",
       "       [-2.34753409e-01],\n",
       "       [ 7.31520111e-01],\n",
       "       [-1.01732220e-01],\n",
       "       [-1.66392146e+00],\n",
       "       [ 9.33090967e-01],\n",
       "       [ 1.40369428e+00],\n",
       "       [-1.50231500e-01],\n",
       "       [ 5.96540473e-01],\n",
       "       [-7.80902640e-01],\n",
       "       [-1.59183309e+00],\n",
       "       [ 2.07192136e-01],\n",
       "       [-1.64377781e+00],\n",
       "       [-1.20839060e+00],\n",
       "       [ 9.97257647e-01],\n",
       "       [-6.00095346e-01],\n",
       "       [-1.75976817e+00],\n",
       "       [ 2.54191211e-01],\n",
       "       [-6.45153881e-03],\n",
       "       [ 1.40369428e+00],\n",
       "       [ 6.13752539e-03],\n",
       "       [ 7.30047697e-01],\n",
       "       [ 8.44843909e-01],\n",
       "       [ 9.11923208e-01],\n",
       "       [-3.67354840e-01],\n",
       "       [ 1.28823127e+00],\n",
       "       [-1.53027019e+00],\n",
       "       [-8.69810654e-01],\n",
       "       [ 3.20516182e-01],\n",
       "       [ 8.07168597e-01],\n",
       "       [ 5.52717576e-01],\n",
       "       [ 1.70864646e-01],\n",
       "       [-4.52241909e-01],\n",
       "       [ 1.42909657e+00],\n",
       "       [-1.09819668e+00],\n",
       "       [ 9.15727270e-01],\n",
       "       [-1.65155032e-01],\n",
       "       [ 3.48975417e-02],\n",
       "       [ 7.92513588e-01],\n",
       "       [-1.46676446e+00],\n",
       "       [-1.52437602e+00],\n",
       "       [-2.34328321e-01],\n",
       "       [-9.30328811e-02],\n",
       "       [-6.03660716e-04],\n",
       "       [-1.04762668e+00],\n",
       "       [ 1.58647269e+00],\n",
       "       [-1.77159194e+00],\n",
       "       [-1.58512405e-01],\n",
       "       [-1.33975302e+00],\n",
       "       [-1.13120520e-02],\n",
       "       [-1.81668546e+00],\n",
       "       [ 1.47760863e+00],\n",
       "       [ 6.88396749e-01],\n",
       "       [ 1.07346452e+00],\n",
       "       [ 1.42420950e+00],\n",
       "       [ 2.89026221e-01],\n",
       "       [ 3.62200402e-01],\n",
       "       [-1.27579331e+00],\n",
       "       [-1.58064509e+00],\n",
       "       [ 7.05131315e-01],\n",
       "       [-1.79308001e+00],\n",
       "       [-2.97117299e-02],\n",
       "       [-1.53929823e+00],\n",
       "       [ 1.29414524e+00],\n",
       "       [ 1.01984299e+00],\n",
       "       [ 1.16237253e+00],\n",
       "       [-3.03008709e-01],\n",
       "       [ 1.23973441e+00],\n",
       "       [-8.77652000e-01],\n",
       "       [-1.63187935e+00],\n",
       "       [-1.41595988e+00],\n",
       "       [ 1.04806223e+00],\n",
       "       [ 1.33579794e-01],\n",
       "       [ 7.85967133e-01],\n",
       "       [-1.20443104e-01],\n",
       "       [ 4.90494668e-01],\n",
       "       [ 1.13697024e+00],\n",
       "       [ 7.17971287e-01],\n",
       "       [ 1.18547866e+00],\n",
       "       [-1.49216675e+00],\n",
       "       [ 1.20047597e+00],\n",
       "       [ 4.38407272e-01],\n",
       "       [-1.98897253e-01],\n",
       "       [ 1.32969038e+00],\n",
       "       [ 2.89474341e-01],\n",
       "       [ 2.40304342e-02],\n",
       "       [-1.56837362e+00],\n",
       "       [ 6.64803740e-01],\n",
       "       [ 1.34018856e+00],\n",
       "       [-1.75289728e+00],\n",
       "       [-1.64822412e+00],\n",
       "       [ 8.32142764e-01],\n",
       "       [-1.04563204e+00],\n",
       "       [-1.14595708e+00],\n",
       "       [ 2.64949975e-01],\n",
       "       [ 6.67027880e-01],\n",
       "       [-1.54258623e+00],\n",
       "       [ 7.46446840e-01],\n",
       "       [ 5.01912996e-01],\n",
       "       [-5.51605205e-01],\n",
       "       [-8.84953280e-01],\n",
       "       [-4.81565320e-01],\n",
       "       [-1.36954844e+00],\n",
       "       [-7.29018265e-01],\n",
       "       [-1.76538680e+00],\n",
       "       [-1.78419871e+00],\n",
       "       [-1.55747586e+00],\n",
       "       [ 5.81718317e-01],\n",
       "       [-6.42125072e-01],\n",
       "       [ 2.73777096e-01],\n",
       "       [-7.16648219e-01],\n",
       "       [ 8.94177410e-01],\n",
       "       [ 9.54591863e-01]])"
      ]
     },
     "execution_count": 239,
     "metadata": {},
     "output_type": "execute_result"
    }
   ],
   "source": [
    "x_train"
   ]
  },
  {
   "cell_type": "code",
   "execution_count": 240,
   "id": "ab8a5d7a",
   "metadata": {},
   "outputs": [
    {
     "data": {
      "text/plain": [
       "435      60.118643\n",
       "21      -78.139275\n",
       "1069    118.564590\n",
       "112     -18.312518\n",
       "941    -110.907090\n",
       "           ...    \n",
       "149     -58.002606\n",
       "237     -73.487912\n",
       "710     -55.947190\n",
       "410      -1.938705\n",
       "439      59.427523\n",
       "Name: output, Length: 817, dtype: float64"
      ]
     },
     "execution_count": 240,
     "metadata": {},
     "output_type": "execute_result"
    }
   ],
   "source": [
    "y_train"
   ]
  },
  {
   "cell_type": "code",
   "execution_count": 241,
   "id": "dafb14e8",
   "metadata": {},
   "outputs": [
    {
     "data": {
      "text/plain": [
       "0.3183414903114846"
      ]
     },
     "execution_count": 241,
     "metadata": {},
     "output_type": "execute_result"
    }
   ],
   "source": [
    "#adjusted R2 score\n",
    "regression.score(x_train,y_train)"
   ]
  },
  {
   "cell_type": "code",
   "execution_count": 242,
   "id": "a70d413d",
   "metadata": {},
   "outputs": [
    {
     "data": {
      "text/plain": [
       "0.07479299301452991"
      ]
     },
     "execution_count": 242,
     "metadata": {},
     "output_type": "execute_result"
    }
   ],
   "source": [
    "#Let's check how well model fits the test data\n",
    "regression.score(x_test,y_test)"
   ]
  },
  {
   "cell_type": "code",
   "execution_count": 243,
   "id": "4266d7b9",
   "metadata": {},
   "outputs": [
    {
     "data": {
      "text/html": [
       "<div>\n",
       "<style scoped>\n",
       "    .dataframe tbody tr th:only-of-type {\n",
       "        vertical-align: middle;\n",
       "    }\n",
       "\n",
       "    .dataframe tbody tr th {\n",
       "        vertical-align: top;\n",
       "    }\n",
       "\n",
       "    .dataframe thead th {\n",
       "        text-align: right;\n",
       "    }\n",
       "</style>\n",
       "<table border=\"1\" class=\"dataframe\">\n",
       "  <thead>\n",
       "    <tr style=\"text-align: right;\">\n",
       "      <th></th>\n",
       "      <th>input</th>\n",
       "      <th>output</th>\n",
       "    </tr>\n",
       "  </thead>\n",
       "  <tbody>\n",
       "    <tr>\n",
       "      <th>1109</th>\n",
       "      <td>-111.515368</td>\n",
       "      <td>128.170885</td>\n",
       "    </tr>\n",
       "    <tr>\n",
       "      <th>1110</th>\n",
       "      <td>-110.344221</td>\n",
       "      <td>123.087950</td>\n",
       "    </tr>\n",
       "  </tbody>\n",
       "</table>\n",
       "</div>"
      ],
      "text/plain": [
       "           input      output\n",
       "1109 -111.515368  128.170885\n",
       "1110 -110.344221  123.087950"
      ]
     },
     "execution_count": 243,
     "metadata": {},
     "output_type": "execute_result"
    }
   ],
   "source": [
    "data.tail(2)"
   ]
  },
  {
   "cell_type": "code",
   "execution_count": 244,
   "id": "b82b45b9",
   "metadata": {},
   "outputs": [
    {
     "name": "stdout",
     "output_type": "stream",
     "text": [
      "output : [-86.22770109]\n"
     ]
    }
   ],
   "source": [
    "print('output :',regression.predict(scaler.transform([[-111.515368  ]])))"
   ]
  },
  {
   "cell_type": "markdown",
   "id": "d197fbf2",
   "metadata": {},
   "source": [
    "DECISION TREE"
   ]
  },
  {
   "cell_type": "code",
   "execution_count": 245,
   "id": "e98fcb0b",
   "metadata": {},
   "outputs": [],
   "source": [
    "from sklearn.tree import DecisionTreeRegressor"
   ]
  },
  {
   "cell_type": "code",
   "execution_count": 246,
   "id": "7d383fa4",
   "metadata": {},
   "outputs": [
    {
     "data": {
      "text/html": [
       "<style>#sk-container-id-17 {color: black;background-color: white;}#sk-container-id-17 pre{padding: 0;}#sk-container-id-17 div.sk-toggleable {background-color: white;}#sk-container-id-17 label.sk-toggleable__label {cursor: pointer;display: block;width: 100%;margin-bottom: 0;padding: 0.3em;box-sizing: border-box;text-align: center;}#sk-container-id-17 label.sk-toggleable__label-arrow:before {content: \"▸\";float: left;margin-right: 0.25em;color: #696969;}#sk-container-id-17 label.sk-toggleable__label-arrow:hover:before {color: black;}#sk-container-id-17 div.sk-estimator:hover label.sk-toggleable__label-arrow:before {color: black;}#sk-container-id-17 div.sk-toggleable__content {max-height: 0;max-width: 0;overflow: hidden;text-align: left;background-color: #f0f8ff;}#sk-container-id-17 div.sk-toggleable__content pre {margin: 0.2em;color: black;border-radius: 0.25em;background-color: #f0f8ff;}#sk-container-id-17 input.sk-toggleable__control:checked~div.sk-toggleable__content {max-height: 200px;max-width: 100%;overflow: auto;}#sk-container-id-17 input.sk-toggleable__control:checked~label.sk-toggleable__label-arrow:before {content: \"▾\";}#sk-container-id-17 div.sk-estimator input.sk-toggleable__control:checked~label.sk-toggleable__label {background-color: #d4ebff;}#sk-container-id-17 div.sk-label input.sk-toggleable__control:checked~label.sk-toggleable__label {background-color: #d4ebff;}#sk-container-id-17 input.sk-hidden--visually {border: 0;clip: rect(1px 1px 1px 1px);clip: rect(1px, 1px, 1px, 1px);height: 1px;margin: -1px;overflow: hidden;padding: 0;position: absolute;width: 1px;}#sk-container-id-17 div.sk-estimator {font-family: monospace;background-color: #f0f8ff;border: 1px dotted black;border-radius: 0.25em;box-sizing: border-box;margin-bottom: 0.5em;}#sk-container-id-17 div.sk-estimator:hover {background-color: #d4ebff;}#sk-container-id-17 div.sk-parallel-item::after {content: \"\";width: 100%;border-bottom: 1px solid gray;flex-grow: 1;}#sk-container-id-17 div.sk-label:hover label.sk-toggleable__label {background-color: #d4ebff;}#sk-container-id-17 div.sk-serial::before {content: \"\";position: absolute;border-left: 1px solid gray;box-sizing: border-box;top: 0;bottom: 0;left: 50%;z-index: 0;}#sk-container-id-17 div.sk-serial {display: flex;flex-direction: column;align-items: center;background-color: white;padding-right: 0.2em;padding-left: 0.2em;position: relative;}#sk-container-id-17 div.sk-item {position: relative;z-index: 1;}#sk-container-id-17 div.sk-parallel {display: flex;align-items: stretch;justify-content: center;background-color: white;position: relative;}#sk-container-id-17 div.sk-item::before, #sk-container-id-17 div.sk-parallel-item::before {content: \"\";position: absolute;border-left: 1px solid gray;box-sizing: border-box;top: 0;bottom: 0;left: 50%;z-index: -1;}#sk-container-id-17 div.sk-parallel-item {display: flex;flex-direction: column;z-index: 1;position: relative;background-color: white;}#sk-container-id-17 div.sk-parallel-item:first-child::after {align-self: flex-end;width: 50%;}#sk-container-id-17 div.sk-parallel-item:last-child::after {align-self: flex-start;width: 50%;}#sk-container-id-17 div.sk-parallel-item:only-child::after {width: 0;}#sk-container-id-17 div.sk-dashed-wrapped {border: 1px dashed gray;margin: 0 0.4em 0.5em 0.4em;box-sizing: border-box;padding-bottom: 0.4em;background-color: white;}#sk-container-id-17 div.sk-label label {font-family: monospace;font-weight: bold;display: inline-block;line-height: 1.2em;}#sk-container-id-17 div.sk-label-container {text-align: center;}#sk-container-id-17 div.sk-container {/* jupyter's `normalize.less` sets `[hidden] { display: none; }` but bootstrap.min.css set `[hidden] { display: none !important; }` so we also need the `!important` here to be able to override the default hidden behavior on the sphinx rendered scikit-learn.org. See: https://github.com/scikit-learn/scikit-learn/issues/21755 */display: inline-block !important;position: relative;}#sk-container-id-17 div.sk-text-repr-fallback {display: none;}</style><div id=\"sk-container-id-17\" class=\"sk-top-container\"><div class=\"sk-text-repr-fallback\"><pre>DecisionTreeRegressor()</pre><b>In a Jupyter environment, please rerun this cell to show the HTML representation or trust the notebook. <br />On GitHub, the HTML representation is unable to render, please try loading this page with nbviewer.org.</b></div><div class=\"sk-container\" hidden><div class=\"sk-item\"><div class=\"sk-estimator sk-toggleable\"><input class=\"sk-toggleable__control sk-hidden--visually\" id=\"sk-estimator-id-17\" type=\"checkbox\" checked><label for=\"sk-estimator-id-17\" class=\"sk-toggleable__label sk-toggleable__label-arrow\">DecisionTreeRegressor</label><div class=\"sk-toggleable__content\"><pre>DecisionTreeRegressor()</pre></div></div></div></div></div>"
      ],
      "text/plain": [
       "DecisionTreeRegressor()"
      ]
     },
     "execution_count": 246,
     "metadata": {},
     "output_type": "execute_result"
    }
   ],
   "source": [
    "clf=DecisionTreeRegressor()\n",
    "clf.fit(x_train,y_train)"
   ]
  },
  {
   "cell_type": "code",
   "execution_count": 247,
   "id": "ee8fa359",
   "metadata": {},
   "outputs": [
    {
     "data": {
      "text/plain": [
       "0.9850728743122515"
      ]
     },
     "execution_count": 247,
     "metadata": {},
     "output_type": "execute_result"
    }
   ],
   "source": [
    "clf.score(x_train,y_train)"
   ]
  },
  {
   "cell_type": "code",
   "execution_count": 248,
   "id": "d0e37763",
   "metadata": {},
   "outputs": [
    {
     "data": {
      "text/plain": [
       "0.24362828588901275"
      ]
     },
     "execution_count": 248,
     "metadata": {},
     "output_type": "execute_result"
    }
   ],
   "source": [
    "clf.score(x_test,y_test)\n"
   ]
  },
  {
   "cell_type": "markdown",
   "id": "8050c69f",
   "metadata": {},
   "source": [
    "GRADIENT BOOSTING "
   ]
  },
  {
   "cell_type": "code",
   "execution_count": 249,
   "id": "11d02037",
   "metadata": {},
   "outputs": [],
   "source": [
    "from sklearn.ensemble import GradientBoostingRegressor"
   ]
  },
  {
   "cell_type": "code",
   "execution_count": 250,
   "id": "98329a7d",
   "metadata": {},
   "outputs": [],
   "source": [
    "gbr=GradientBoostingRegressor()"
   ]
  },
  {
   "cell_type": "code",
   "execution_count": 251,
   "id": "e1984a69",
   "metadata": {},
   "outputs": [
    {
     "data": {
      "text/html": [
       "<style>#sk-container-id-18 {color: black;background-color: white;}#sk-container-id-18 pre{padding: 0;}#sk-container-id-18 div.sk-toggleable {background-color: white;}#sk-container-id-18 label.sk-toggleable__label {cursor: pointer;display: block;width: 100%;margin-bottom: 0;padding: 0.3em;box-sizing: border-box;text-align: center;}#sk-container-id-18 label.sk-toggleable__label-arrow:before {content: \"▸\";float: left;margin-right: 0.25em;color: #696969;}#sk-container-id-18 label.sk-toggleable__label-arrow:hover:before {color: black;}#sk-container-id-18 div.sk-estimator:hover label.sk-toggleable__label-arrow:before {color: black;}#sk-container-id-18 div.sk-toggleable__content {max-height: 0;max-width: 0;overflow: hidden;text-align: left;background-color: #f0f8ff;}#sk-container-id-18 div.sk-toggleable__content pre {margin: 0.2em;color: black;border-radius: 0.25em;background-color: #f0f8ff;}#sk-container-id-18 input.sk-toggleable__control:checked~div.sk-toggleable__content {max-height: 200px;max-width: 100%;overflow: auto;}#sk-container-id-18 input.sk-toggleable__control:checked~label.sk-toggleable__label-arrow:before {content: \"▾\";}#sk-container-id-18 div.sk-estimator input.sk-toggleable__control:checked~label.sk-toggleable__label {background-color: #d4ebff;}#sk-container-id-18 div.sk-label input.sk-toggleable__control:checked~label.sk-toggleable__label {background-color: #d4ebff;}#sk-container-id-18 input.sk-hidden--visually {border: 0;clip: rect(1px 1px 1px 1px);clip: rect(1px, 1px, 1px, 1px);height: 1px;margin: -1px;overflow: hidden;padding: 0;position: absolute;width: 1px;}#sk-container-id-18 div.sk-estimator {font-family: monospace;background-color: #f0f8ff;border: 1px dotted black;border-radius: 0.25em;box-sizing: border-box;margin-bottom: 0.5em;}#sk-container-id-18 div.sk-estimator:hover {background-color: #d4ebff;}#sk-container-id-18 div.sk-parallel-item::after {content: \"\";width: 100%;border-bottom: 1px solid gray;flex-grow: 1;}#sk-container-id-18 div.sk-label:hover label.sk-toggleable__label {background-color: #d4ebff;}#sk-container-id-18 div.sk-serial::before {content: \"\";position: absolute;border-left: 1px solid gray;box-sizing: border-box;top: 0;bottom: 0;left: 50%;z-index: 0;}#sk-container-id-18 div.sk-serial {display: flex;flex-direction: column;align-items: center;background-color: white;padding-right: 0.2em;padding-left: 0.2em;position: relative;}#sk-container-id-18 div.sk-item {position: relative;z-index: 1;}#sk-container-id-18 div.sk-parallel {display: flex;align-items: stretch;justify-content: center;background-color: white;position: relative;}#sk-container-id-18 div.sk-item::before, #sk-container-id-18 div.sk-parallel-item::before {content: \"\";position: absolute;border-left: 1px solid gray;box-sizing: border-box;top: 0;bottom: 0;left: 50%;z-index: -1;}#sk-container-id-18 div.sk-parallel-item {display: flex;flex-direction: column;z-index: 1;position: relative;background-color: white;}#sk-container-id-18 div.sk-parallel-item:first-child::after {align-self: flex-end;width: 50%;}#sk-container-id-18 div.sk-parallel-item:last-child::after {align-self: flex-start;width: 50%;}#sk-container-id-18 div.sk-parallel-item:only-child::after {width: 0;}#sk-container-id-18 div.sk-dashed-wrapped {border: 1px dashed gray;margin: 0 0.4em 0.5em 0.4em;box-sizing: border-box;padding-bottom: 0.4em;background-color: white;}#sk-container-id-18 div.sk-label label {font-family: monospace;font-weight: bold;display: inline-block;line-height: 1.2em;}#sk-container-id-18 div.sk-label-container {text-align: center;}#sk-container-id-18 div.sk-container {/* jupyter's `normalize.less` sets `[hidden] { display: none; }` but bootstrap.min.css set `[hidden] { display: none !important; }` so we also need the `!important` here to be able to override the default hidden behavior on the sphinx rendered scikit-learn.org. See: https://github.com/scikit-learn/scikit-learn/issues/21755 */display: inline-block !important;position: relative;}#sk-container-id-18 div.sk-text-repr-fallback {display: none;}</style><div id=\"sk-container-id-18\" class=\"sk-top-container\"><div class=\"sk-text-repr-fallback\"><pre>GradientBoostingRegressor()</pre><b>In a Jupyter environment, please rerun this cell to show the HTML representation or trust the notebook. <br />On GitHub, the HTML representation is unable to render, please try loading this page with nbviewer.org.</b></div><div class=\"sk-container\" hidden><div class=\"sk-item\"><div class=\"sk-estimator sk-toggleable\"><input class=\"sk-toggleable__control sk-hidden--visually\" id=\"sk-estimator-id-18\" type=\"checkbox\" checked><label for=\"sk-estimator-id-18\" class=\"sk-toggleable__label sk-toggleable__label-arrow\">GradientBoostingRegressor</label><div class=\"sk-toggleable__content\"><pre>GradientBoostingRegressor()</pre></div></div></div></div></div>"
      ],
      "text/plain": [
       "GradientBoostingRegressor()"
      ]
     },
     "execution_count": 251,
     "metadata": {},
     "output_type": "execute_result"
    }
   ],
   "source": [
    "gbr.fit(x_train,y_train)"
   ]
  },
  {
   "cell_type": "code",
   "execution_count": 252,
   "id": "7391190a",
   "metadata": {},
   "outputs": [
    {
     "data": {
      "text/plain": [
       "0.8683998351747563"
      ]
     },
     "execution_count": 252,
     "metadata": {},
     "output_type": "execute_result"
    }
   ],
   "source": [
    "gbr.score(x_train,y_train)"
   ]
  },
  {
   "cell_type": "code",
   "execution_count": 253,
   "id": "e6602c6a",
   "metadata": {},
   "outputs": [
    {
     "data": {
      "text/plain": [
       "0.446989040500144"
      ]
     },
     "execution_count": 253,
     "metadata": {},
     "output_type": "execute_result"
    }
   ],
   "source": [
    "gbr.score(x_test,y_test)\n"
   ]
  },
  {
   "cell_type": "markdown",
   "id": "a069fb46",
   "metadata": {},
   "source": [
    "SUPPORT VECTOR MACHINE"
   ]
  },
  {
   "cell_type": "code",
   "execution_count": 254,
   "id": "114d37ec",
   "metadata": {},
   "outputs": [],
   "source": [
    "from sklearn.svm import SVR\n",
    "svr=SVR()\n"
   ]
  },
  {
   "cell_type": "code",
   "execution_count": 255,
   "id": "a5b74241",
   "metadata": {},
   "outputs": [
    {
     "data": {
      "text/html": [
       "<style>#sk-container-id-19 {color: black;background-color: white;}#sk-container-id-19 pre{padding: 0;}#sk-container-id-19 div.sk-toggleable {background-color: white;}#sk-container-id-19 label.sk-toggleable__label {cursor: pointer;display: block;width: 100%;margin-bottom: 0;padding: 0.3em;box-sizing: border-box;text-align: center;}#sk-container-id-19 label.sk-toggleable__label-arrow:before {content: \"▸\";float: left;margin-right: 0.25em;color: #696969;}#sk-container-id-19 label.sk-toggleable__label-arrow:hover:before {color: black;}#sk-container-id-19 div.sk-estimator:hover label.sk-toggleable__label-arrow:before {color: black;}#sk-container-id-19 div.sk-toggleable__content {max-height: 0;max-width: 0;overflow: hidden;text-align: left;background-color: #f0f8ff;}#sk-container-id-19 div.sk-toggleable__content pre {margin: 0.2em;color: black;border-radius: 0.25em;background-color: #f0f8ff;}#sk-container-id-19 input.sk-toggleable__control:checked~div.sk-toggleable__content {max-height: 200px;max-width: 100%;overflow: auto;}#sk-container-id-19 input.sk-toggleable__control:checked~label.sk-toggleable__label-arrow:before {content: \"▾\";}#sk-container-id-19 div.sk-estimator input.sk-toggleable__control:checked~label.sk-toggleable__label {background-color: #d4ebff;}#sk-container-id-19 div.sk-label input.sk-toggleable__control:checked~label.sk-toggleable__label {background-color: #d4ebff;}#sk-container-id-19 input.sk-hidden--visually {border: 0;clip: rect(1px 1px 1px 1px);clip: rect(1px, 1px, 1px, 1px);height: 1px;margin: -1px;overflow: hidden;padding: 0;position: absolute;width: 1px;}#sk-container-id-19 div.sk-estimator {font-family: monospace;background-color: #f0f8ff;border: 1px dotted black;border-radius: 0.25em;box-sizing: border-box;margin-bottom: 0.5em;}#sk-container-id-19 div.sk-estimator:hover {background-color: #d4ebff;}#sk-container-id-19 div.sk-parallel-item::after {content: \"\";width: 100%;border-bottom: 1px solid gray;flex-grow: 1;}#sk-container-id-19 div.sk-label:hover label.sk-toggleable__label {background-color: #d4ebff;}#sk-container-id-19 div.sk-serial::before {content: \"\";position: absolute;border-left: 1px solid gray;box-sizing: border-box;top: 0;bottom: 0;left: 50%;z-index: 0;}#sk-container-id-19 div.sk-serial {display: flex;flex-direction: column;align-items: center;background-color: white;padding-right: 0.2em;padding-left: 0.2em;position: relative;}#sk-container-id-19 div.sk-item {position: relative;z-index: 1;}#sk-container-id-19 div.sk-parallel {display: flex;align-items: stretch;justify-content: center;background-color: white;position: relative;}#sk-container-id-19 div.sk-item::before, #sk-container-id-19 div.sk-parallel-item::before {content: \"\";position: absolute;border-left: 1px solid gray;box-sizing: border-box;top: 0;bottom: 0;left: 50%;z-index: -1;}#sk-container-id-19 div.sk-parallel-item {display: flex;flex-direction: column;z-index: 1;position: relative;background-color: white;}#sk-container-id-19 div.sk-parallel-item:first-child::after {align-self: flex-end;width: 50%;}#sk-container-id-19 div.sk-parallel-item:last-child::after {align-self: flex-start;width: 50%;}#sk-container-id-19 div.sk-parallel-item:only-child::after {width: 0;}#sk-container-id-19 div.sk-dashed-wrapped {border: 1px dashed gray;margin: 0 0.4em 0.5em 0.4em;box-sizing: border-box;padding-bottom: 0.4em;background-color: white;}#sk-container-id-19 div.sk-label label {font-family: monospace;font-weight: bold;display: inline-block;line-height: 1.2em;}#sk-container-id-19 div.sk-label-container {text-align: center;}#sk-container-id-19 div.sk-container {/* jupyter's `normalize.less` sets `[hidden] { display: none; }` but bootstrap.min.css set `[hidden] { display: none !important; }` so we also need the `!important` here to be able to override the default hidden behavior on the sphinx rendered scikit-learn.org. See: https://github.com/scikit-learn/scikit-learn/issues/21755 */display: inline-block !important;position: relative;}#sk-container-id-19 div.sk-text-repr-fallback {display: none;}</style><div id=\"sk-container-id-19\" class=\"sk-top-container\"><div class=\"sk-text-repr-fallback\"><pre>SVR()</pre><b>In a Jupyter environment, please rerun this cell to show the HTML representation or trust the notebook. <br />On GitHub, the HTML representation is unable to render, please try loading this page with nbviewer.org.</b></div><div class=\"sk-container\" hidden><div class=\"sk-item\"><div class=\"sk-estimator sk-toggleable\"><input class=\"sk-toggleable__control sk-hidden--visually\" id=\"sk-estimator-id-19\" type=\"checkbox\" checked><label for=\"sk-estimator-id-19\" class=\"sk-toggleable__label sk-toggleable__label-arrow\">SVR</label><div class=\"sk-toggleable__content\"><pre>SVR()</pre></div></div></div></div></div>"
      ],
      "text/plain": [
       "SVR()"
      ]
     },
     "execution_count": 255,
     "metadata": {},
     "output_type": "execute_result"
    }
   ],
   "source": [
    "svr.fit(x_train,y_train)"
   ]
  },
  {
   "cell_type": "code",
   "execution_count": 256,
   "id": "abe5d2d1",
   "metadata": {},
   "outputs": [
    {
     "data": {
      "text/plain": [
       "0.6775883918191209"
      ]
     },
     "execution_count": 256,
     "metadata": {},
     "output_type": "execute_result"
    }
   ],
   "source": [
    "svr.score(x_train,y_train)"
   ]
  },
  {
   "cell_type": "code",
   "execution_count": 257,
   "id": "34b67c3b",
   "metadata": {},
   "outputs": [
    {
     "data": {
      "text/plain": [
       "0.5005380535869618"
      ]
     },
     "execution_count": 257,
     "metadata": {},
     "output_type": "execute_result"
    }
   ],
   "source": [
    "svr.score(x_test,y_test)\n"
   ]
  },
  {
   "cell_type": "markdown",
   "id": "c05cc7d8",
   "metadata": {},
   "source": [
    "KNN"
   ]
  },
  {
   "cell_type": "code",
   "execution_count": 258,
   "id": "b4a9e738",
   "metadata": {},
   "outputs": [],
   "source": [
    "from sklearn.neighbors import KNeighborsRegressor"
   ]
  },
  {
   "cell_type": "code",
   "execution_count": 259,
   "id": "63fadf57",
   "metadata": {},
   "outputs": [],
   "source": [
    "knn=KNeighborsRegressor()"
   ]
  },
  {
   "cell_type": "code",
   "execution_count": 260,
   "id": "b6c31390",
   "metadata": {},
   "outputs": [
    {
     "data": {
      "text/html": [
       "<style>#sk-container-id-20 {color: black;background-color: white;}#sk-container-id-20 pre{padding: 0;}#sk-container-id-20 div.sk-toggleable {background-color: white;}#sk-container-id-20 label.sk-toggleable__label {cursor: pointer;display: block;width: 100%;margin-bottom: 0;padding: 0.3em;box-sizing: border-box;text-align: center;}#sk-container-id-20 label.sk-toggleable__label-arrow:before {content: \"▸\";float: left;margin-right: 0.25em;color: #696969;}#sk-container-id-20 label.sk-toggleable__label-arrow:hover:before {color: black;}#sk-container-id-20 div.sk-estimator:hover label.sk-toggleable__label-arrow:before {color: black;}#sk-container-id-20 div.sk-toggleable__content {max-height: 0;max-width: 0;overflow: hidden;text-align: left;background-color: #f0f8ff;}#sk-container-id-20 div.sk-toggleable__content pre {margin: 0.2em;color: black;border-radius: 0.25em;background-color: #f0f8ff;}#sk-container-id-20 input.sk-toggleable__control:checked~div.sk-toggleable__content {max-height: 200px;max-width: 100%;overflow: auto;}#sk-container-id-20 input.sk-toggleable__control:checked~label.sk-toggleable__label-arrow:before {content: \"▾\";}#sk-container-id-20 div.sk-estimator input.sk-toggleable__control:checked~label.sk-toggleable__label {background-color: #d4ebff;}#sk-container-id-20 div.sk-label input.sk-toggleable__control:checked~label.sk-toggleable__label {background-color: #d4ebff;}#sk-container-id-20 input.sk-hidden--visually {border: 0;clip: rect(1px 1px 1px 1px);clip: rect(1px, 1px, 1px, 1px);height: 1px;margin: -1px;overflow: hidden;padding: 0;position: absolute;width: 1px;}#sk-container-id-20 div.sk-estimator {font-family: monospace;background-color: #f0f8ff;border: 1px dotted black;border-radius: 0.25em;box-sizing: border-box;margin-bottom: 0.5em;}#sk-container-id-20 div.sk-estimator:hover {background-color: #d4ebff;}#sk-container-id-20 div.sk-parallel-item::after {content: \"\";width: 100%;border-bottom: 1px solid gray;flex-grow: 1;}#sk-container-id-20 div.sk-label:hover label.sk-toggleable__label {background-color: #d4ebff;}#sk-container-id-20 div.sk-serial::before {content: \"\";position: absolute;border-left: 1px solid gray;box-sizing: border-box;top: 0;bottom: 0;left: 50%;z-index: 0;}#sk-container-id-20 div.sk-serial {display: flex;flex-direction: column;align-items: center;background-color: white;padding-right: 0.2em;padding-left: 0.2em;position: relative;}#sk-container-id-20 div.sk-item {position: relative;z-index: 1;}#sk-container-id-20 div.sk-parallel {display: flex;align-items: stretch;justify-content: center;background-color: white;position: relative;}#sk-container-id-20 div.sk-item::before, #sk-container-id-20 div.sk-parallel-item::before {content: \"\";position: absolute;border-left: 1px solid gray;box-sizing: border-box;top: 0;bottom: 0;left: 50%;z-index: -1;}#sk-container-id-20 div.sk-parallel-item {display: flex;flex-direction: column;z-index: 1;position: relative;background-color: white;}#sk-container-id-20 div.sk-parallel-item:first-child::after {align-self: flex-end;width: 50%;}#sk-container-id-20 div.sk-parallel-item:last-child::after {align-self: flex-start;width: 50%;}#sk-container-id-20 div.sk-parallel-item:only-child::after {width: 0;}#sk-container-id-20 div.sk-dashed-wrapped {border: 1px dashed gray;margin: 0 0.4em 0.5em 0.4em;box-sizing: border-box;padding-bottom: 0.4em;background-color: white;}#sk-container-id-20 div.sk-label label {font-family: monospace;font-weight: bold;display: inline-block;line-height: 1.2em;}#sk-container-id-20 div.sk-label-container {text-align: center;}#sk-container-id-20 div.sk-container {/* jupyter's `normalize.less` sets `[hidden] { display: none; }` but bootstrap.min.css set `[hidden] { display: none !important; }` so we also need the `!important` here to be able to override the default hidden behavior on the sphinx rendered scikit-learn.org. See: https://github.com/scikit-learn/scikit-learn/issues/21755 */display: inline-block !important;position: relative;}#sk-container-id-20 div.sk-text-repr-fallback {display: none;}</style><div id=\"sk-container-id-20\" class=\"sk-top-container\"><div class=\"sk-text-repr-fallback\"><pre>KNeighborsRegressor()</pre><b>In a Jupyter environment, please rerun this cell to show the HTML representation or trust the notebook. <br />On GitHub, the HTML representation is unable to render, please try loading this page with nbviewer.org.</b></div><div class=\"sk-container\" hidden><div class=\"sk-item\"><div class=\"sk-estimator sk-toggleable\"><input class=\"sk-toggleable__control sk-hidden--visually\" id=\"sk-estimator-id-20\" type=\"checkbox\" checked><label for=\"sk-estimator-id-20\" class=\"sk-toggleable__label sk-toggleable__label-arrow\">KNeighborsRegressor</label><div class=\"sk-toggleable__content\"><pre>KNeighborsRegressor()</pre></div></div></div></div></div>"
      ],
      "text/plain": [
       "KNeighborsRegressor()"
      ]
     },
     "execution_count": 260,
     "metadata": {},
     "output_type": "execute_result"
    }
   ],
   "source": [
    "knn.fit(x_train,y_train)"
   ]
  },
  {
   "cell_type": "code",
   "execution_count": 261,
   "id": "01aae1e4",
   "metadata": {},
   "outputs": [
    {
     "data": {
      "text/plain": [
       "0.7811820634001256"
      ]
     },
     "execution_count": 261,
     "metadata": {},
     "output_type": "execute_result"
    }
   ],
   "source": [
    "knn.score(x_train,y_train)"
   ]
  },
  {
   "cell_type": "code",
   "execution_count": 92,
   "id": "c1c360ad",
   "metadata": {},
   "outputs": [
    {
     "data": {
      "text/plain": [
       "0.5339015956466129"
      ]
     },
     "execution_count": 92,
     "metadata": {},
     "output_type": "execute_result"
    }
   ],
   "source": [
    "knn.score(x_test,y_test)\n"
   ]
  },
  {
   "cell_type": "markdown",
   "id": "5a17dc30",
   "metadata": {},
   "source": [
    "SINCE THE ACCURACY SCORE OF KNN AND SVM ARE APPROXIMATELY SAME, I WOULD USE THE KNN OR SVM MODEL"
   ]
  },
  {
   "cell_type": "code",
   "execution_count": null,
   "id": "4263589d",
   "metadata": {},
   "outputs": [],
   "source": []
  }
 ],
 "metadata": {
  "kernelspec": {
   "display_name": "Python 3 (ipykernel)",
   "language": "python",
   "name": "python3"
  },
  "language_info": {
   "codemirror_mode": {
    "name": "ipython",
    "version": 3
   },
   "file_extension": ".py",
   "mimetype": "text/x-python",
   "name": "python",
   "nbconvert_exporter": "python",
   "pygments_lexer": "ipython3",
   "version": "3.9.12"
  }
 },
 "nbformat": 4,
 "nbformat_minor": 5
}
